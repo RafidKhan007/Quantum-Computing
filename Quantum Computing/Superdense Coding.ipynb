{
 "cells": [
  {
   "cell_type": "code",
   "execution_count": null,
   "metadata": {
    "colab": {
     "base_uri": "https://localhost:8080/"
    },
    "executionInfo": {
     "elapsed": 16016,
     "status": "ok",
     "timestamp": 1667752592151,
     "user": {
      "displayName": "Rafid Khan",
      "userId": "05331743219504675786"
     },
     "user_tz": -360
    },
    "id": "w2kzUFpro_8O",
    "outputId": "614b0bd5-9849-486b-f44a-5f432c0354ed"
   },
   "outputs": [
    {
     "name": "stdout",
     "output_type": "stream",
     "text": [
      "Looking in indexes: https://pypi.org/simple, https://us-python.pkg.dev/colab-wheels/public/simple/\n",
      "Requirement already satisfied: qiskit in /usr/local/lib/python3.7/dist-packages (0.39.2)\n",
      "Requirement already satisfied: qiskit-ibmq-provider==0.19.2 in /usr/local/lib/python3.7/dist-packages (from qiskit) (0.19.2)\n",
      "Requirement already satisfied: qiskit-terra==0.22.2 in /usr/local/lib/python3.7/dist-packages (from qiskit) (0.22.2)\n",
      "Requirement already satisfied: qiskit-aer==0.11.1 in /usr/local/lib/python3.7/dist-packages (from qiskit) (0.11.1)\n",
      "Requirement already satisfied: numpy>=1.16.3 in /usr/local/lib/python3.7/dist-packages (from qiskit-aer==0.11.1->qiskit) (1.21.6)\n",
      "Requirement already satisfied: scipy>=1.0 in /usr/local/lib/python3.7/dist-packages (from qiskit-aer==0.11.1->qiskit) (1.7.3)\n",
      "Requirement already satisfied: urllib3>=1.21.1 in /usr/local/lib/python3.7/dist-packages (from qiskit-ibmq-provider==0.19.2->qiskit) (1.24.3)\n",
      "Requirement already satisfied: websockets>=10.0 in /usr/local/lib/python3.7/dist-packages (from qiskit-ibmq-provider==0.19.2->qiskit) (10.4)\n",
      "Requirement already satisfied: websocket-client>=1.0.1 in /usr/local/lib/python3.7/dist-packages (from qiskit-ibmq-provider==0.19.2->qiskit) (1.4.2)\n",
      "Requirement already satisfied: requests-ntlm>=1.1.0 in /usr/local/lib/python3.7/dist-packages (from qiskit-ibmq-provider==0.19.2->qiskit) (1.1.0)\n",
      "Requirement already satisfied: python-dateutil>=2.8.0 in /usr/local/lib/python3.7/dist-packages (from qiskit-ibmq-provider==0.19.2->qiskit) (2.8.2)\n",
      "Requirement already satisfied: requests>=2.19 in /usr/local/lib/python3.7/dist-packages (from qiskit-ibmq-provider==0.19.2->qiskit) (2.23.0)\n",
      "Requirement already satisfied: typing-extensions in /usr/local/lib/python3.7/dist-packages (from qiskit-terra==0.22.2->qiskit) (4.1.1)\n",
      "Requirement already satisfied: shared-memory38 in /usr/local/lib/python3.7/dist-packages (from qiskit-terra==0.22.2->qiskit) (0.1.2)\n",
      "Requirement already satisfied: psutil>=5 in /usr/local/lib/python3.7/dist-packages (from qiskit-terra==0.22.2->qiskit) (5.4.8)\n",
      "Requirement already satisfied: retworkx>=0.11.0 in /usr/local/lib/python3.7/dist-packages (from qiskit-terra==0.22.2->qiskit) (0.12.0)\n",
      "Requirement already satisfied: ply>=3.10 in /usr/local/lib/python3.7/dist-packages (from qiskit-terra==0.22.2->qiskit) (3.11)\n",
      "Requirement already satisfied: tweedledum<2.0,>=1.1 in /usr/local/lib/python3.7/dist-packages (from qiskit-terra==0.22.2->qiskit) (1.1.1)\n",
      "Requirement already satisfied: dill>=0.3 in /usr/local/lib/python3.7/dist-packages (from qiskit-terra==0.22.2->qiskit) (0.3.6)\n",
      "Requirement already satisfied: sympy>=1.3 in /usr/local/lib/python3.7/dist-packages (from qiskit-terra==0.22.2->qiskit) (1.7.1)\n",
      "Requirement already satisfied: stevedore>=3.0.0 in /usr/local/lib/python3.7/dist-packages (from qiskit-terra==0.22.2->qiskit) (3.5.2)\n",
      "Requirement already satisfied: importlib-metadata<5.0 in /usr/local/lib/python3.7/dist-packages (from qiskit-terra==0.22.2->qiskit) (4.13.0)\n",
      "Requirement already satisfied: symengine>=0.9 in /usr/local/lib/python3.7/dist-packages (from qiskit-terra==0.22.2->qiskit) (0.9.2)\n",
      "Requirement already satisfied: zipp>=0.5 in /usr/local/lib/python3.7/dist-packages (from importlib-metadata<5.0->qiskit-terra==0.22.2->qiskit) (3.10.0)\n",
      "Requirement already satisfied: six>=1.5 in /usr/local/lib/python3.7/dist-packages (from python-dateutil>=2.8.0->qiskit-ibmq-provider==0.19.2->qiskit) (1.15.0)\n",
      "Requirement already satisfied: certifi>=2017.4.17 in /usr/local/lib/python3.7/dist-packages (from requests>=2.19->qiskit-ibmq-provider==0.19.2->qiskit) (2022.9.24)\n",
      "Requirement already satisfied: chardet<4,>=3.0.2 in /usr/local/lib/python3.7/dist-packages (from requests>=2.19->qiskit-ibmq-provider==0.19.2->qiskit) (3.0.4)\n",
      "Requirement already satisfied: idna<3,>=2.5 in /usr/local/lib/python3.7/dist-packages (from requests>=2.19->qiskit-ibmq-provider==0.19.2->qiskit) (2.10)\n",
      "Requirement already satisfied: cryptography>=1.3 in /usr/local/lib/python3.7/dist-packages (from requests-ntlm>=1.1.0->qiskit-ibmq-provider==0.19.2->qiskit) (38.0.3)\n",
      "Requirement already satisfied: ntlm-auth>=1.0.2 in /usr/local/lib/python3.7/dist-packages (from requests-ntlm>=1.1.0->qiskit-ibmq-provider==0.19.2->qiskit) (1.5.0)\n",
      "Requirement already satisfied: cffi>=1.12 in /usr/local/lib/python3.7/dist-packages (from cryptography>=1.3->requests-ntlm>=1.1.0->qiskit-ibmq-provider==0.19.2->qiskit) (1.15.1)\n",
      "Requirement already satisfied: pycparser in /usr/local/lib/python3.7/dist-packages (from cffi>=1.12->cryptography>=1.3->requests-ntlm>=1.1.0->qiskit-ibmq-provider==0.19.2->qiskit) (2.21)\n",
      "Requirement already satisfied: rustworkx==0.12.0 in /usr/local/lib/python3.7/dist-packages (from retworkx>=0.11.0->qiskit-terra==0.22.2->qiskit) (0.12.0)\n",
      "Requirement already satisfied: pbr!=2.1.0,>=2.0.0 in /usr/local/lib/python3.7/dist-packages (from stevedore>=3.0.0->qiskit-terra==0.22.2->qiskit) (5.11.0)\n",
      "Requirement already satisfied: mpmath>=0.19 in /usr/local/lib/python3.7/dist-packages (from sympy>=1.3->qiskit-terra==0.22.2->qiskit) (1.2.1)\n",
      "Looking in indexes: https://pypi.org/simple, https://us-python.pkg.dev/colab-wheels/public/simple/\n",
      "Requirement already satisfied: qiskit.ignis in /usr/local/lib/python3.7/dist-packages (0.7.1)\n",
      "Requirement already satisfied: scipy!=0.19.1,>=0.19 in /usr/local/lib/python3.7/dist-packages (from qiskit.ignis) (1.7.3)\n",
      "Requirement already satisfied: setuptools>=40.1.0 in /usr/local/lib/python3.7/dist-packages (from qiskit.ignis) (57.4.0)\n",
      "Requirement already satisfied: qiskit-terra>=0.15.1 in /usr/local/lib/python3.7/dist-packages (from qiskit.ignis) (0.22.2)\n",
      "Requirement already satisfied: retworkx>=0.8.0 in /usr/local/lib/python3.7/dist-packages (from qiskit.ignis) (0.12.0)\n",
      "Requirement already satisfied: numpy>=1.13 in /usr/local/lib/python3.7/dist-packages (from qiskit.ignis) (1.21.6)\n",
      "Requirement already satisfied: tweedledum<2.0,>=1.1 in /usr/local/lib/python3.7/dist-packages (from qiskit-terra>=0.15.1->qiskit.ignis) (1.1.1)\n",
      "Requirement already satisfied: ply>=3.10 in /usr/local/lib/python3.7/dist-packages (from qiskit-terra>=0.15.1->qiskit.ignis) (3.11)\n",
      "Requirement already satisfied: shared-memory38 in /usr/local/lib/python3.7/dist-packages (from qiskit-terra>=0.15.1->qiskit.ignis) (0.1.2)\n",
      "Requirement already satisfied: symengine>=0.9 in /usr/local/lib/python3.7/dist-packages (from qiskit-terra>=0.15.1->qiskit.ignis) (0.9.2)\n",
      "Requirement already satisfied: typing-extensions in /usr/local/lib/python3.7/dist-packages (from qiskit-terra>=0.15.1->qiskit.ignis) (4.1.1)\n",
      "Requirement already satisfied: python-dateutil>=2.8.0 in /usr/local/lib/python3.7/dist-packages (from qiskit-terra>=0.15.1->qiskit.ignis) (2.8.2)\n",
      "Requirement already satisfied: sympy>=1.3 in /usr/local/lib/python3.7/dist-packages (from qiskit-terra>=0.15.1->qiskit.ignis) (1.7.1)\n",
      "Requirement already satisfied: stevedore>=3.0.0 in /usr/local/lib/python3.7/dist-packages (from qiskit-terra>=0.15.1->qiskit.ignis) (3.5.2)\n",
      "Requirement already satisfied: dill>=0.3 in /usr/local/lib/python3.7/dist-packages (from qiskit-terra>=0.15.1->qiskit.ignis) (0.3.6)\n",
      "Requirement already satisfied: psutil>=5 in /usr/local/lib/python3.7/dist-packages (from qiskit-terra>=0.15.1->qiskit.ignis) (5.4.8)\n",
      "Requirement already satisfied: importlib-metadata<5.0 in /usr/local/lib/python3.7/dist-packages (from qiskit-terra>=0.15.1->qiskit.ignis) (4.13.0)\n",
      "Requirement already satisfied: zipp>=0.5 in /usr/local/lib/python3.7/dist-packages (from importlib-metadata<5.0->qiskit-terra>=0.15.1->qiskit.ignis) (3.10.0)\n",
      "Requirement already satisfied: six>=1.5 in /usr/local/lib/python3.7/dist-packages (from python-dateutil>=2.8.0->qiskit-terra>=0.15.1->qiskit.ignis) (1.15.0)\n",
      "Requirement already satisfied: rustworkx==0.12.0 in /usr/local/lib/python3.7/dist-packages (from retworkx>=0.8.0->qiskit.ignis) (0.12.0)\n",
      "Requirement already satisfied: pbr!=2.1.0,>=2.0.0 in /usr/local/lib/python3.7/dist-packages (from stevedore>=3.0.0->qiskit-terra>=0.15.1->qiskit.ignis) (5.11.0)\n",
      "Requirement already satisfied: mpmath>=0.19 in /usr/local/lib/python3.7/dist-packages (from sympy>=1.3->qiskit-terra>=0.15.1->qiskit.ignis) (1.2.1)\n",
      "Looking in indexes: https://pypi.org/simple, https://us-python.pkg.dev/colab-wheels/public/simple/\n",
      "Requirement already satisfied: pylatexenc in /usr/local/lib/python3.7/dist-packages (2.10)\n"
     ]
    }
   ],
   "source": [
    "!pip install qiskit\n",
    "!pip install qiskit.ignis\n",
    "!pip install pylatexenc"
   ]
  },
  {
   "cell_type": "markdown",
   "metadata": {
    "id": "HW46lEDgpX6m"
   },
   "source": [
    "#Super Dense Coding"
   ]
  },
  {
   "cell_type": "markdown",
   "metadata": {
    "id": "Ty7ThxMbpdNu"
   },
   "source": [
    "#Difference between quantum teleportation and super dense coding\n",
    "\n",
    "1. Teleportation --> Transfer qubit state vs Super dense coding --> transfer classical bit\n",
    "\n",
    "2. Teleportation --> Classical channel vs. Super dense coding -->\n",
    "quantum channel"
   ]
  },
  {
   "cell_type": "markdown",
   "metadata": {
    "id": "9_0whj-Kp9UV"
   },
   "source": [
    "#SImple overview of Super Dense Coding\n",
    "Two Part: Alice and Bob\n",
    "Goal: Alice will send 2 qubit of classical information to bob\n",
    "\n",
    "Step 1: Entangled pair with 2 qubits\n",
    "Step 2: Alice performs some operations to her qubit\n",
    "Step3: Bob needs to perform some operations on his qubit/message decoode\n"
   ]
  },
  {
   "cell_type": "code",
   "execution_count": null,
   "metadata": {
    "id": "bhaEB87PsA0t"
   },
   "outputs": [],
   "source": [
    "from qiskit import *\n",
    "from qiskit.visualization import plot_histogram\n",
    "from qiskit.tools.monitor import job_monitor"
   ]
  },
  {
   "cell_type": "code",
   "execution_count": null,
   "metadata": {
    "colab": {
     "base_uri": "https://localhost:8080/",
     "height": 140
    },
    "executionInfo": {
     "elapsed": 465,
     "status": "ok",
     "timestamp": 1667752593199,
     "user": {
      "displayName": "Rafid Khan",
      "userId": "05331743219504675786"
     },
     "user_tz": -360
    },
    "id": "ZqoUyxsXpb3F",
    "outputId": "921f1f90-361e-45dc-a3d4-b3b799067801"
   },
   "outputs": [
    {
     "data": {
      "image/png": "[encoded data removed]",
      "text/plain": [
       "<Figure size 333.534x144.48 with 1 Axes>"
      ]
     },
     "execution_count": 3,
     "metadata": {},
     "output_type": "execute_result"
    }
   ],
   "source": [
    "#Alice's qubit\n",
    "alice_qreg = QuantumRegister(1, name='alice')\n",
    "\n",
    "#Bob's qubit\n",
    "bob_qreg = QuantumRegister(1, name='bob')\n",
    "\n",
    "#create circuit\n",
    "superdense_coding_circuit = QuantumCircuit(alice_qreg, bob_qreg)\n",
    "\n",
    "#Apply h gate to bob qubit\n",
    "superdense_coding_circuit.h(1)\n",
    "\n",
    "#Apply cx gate\n",
    "superdense_coding_circuit.cx(1,0)\n",
    "\n",
    "superdense_coding_circuit.barrier()\n",
    "\n",
    "#draw circuit\n",
    "superdense_coding_circuit.draw(initial_state=True, output='mpl')"
   ]
  },
  {
   "cell_type": "markdown",
   "metadata": {
    "id": "gdCnkfu4sXJu"
   },
   "source": [
    "Message Alice wants to send\n",
    "#00 --> alice do nothing\n",
    "#01 --> alice apply X gate\n",
    "#10 --> alice apply Z gate\n",
    "#11 --> alice apply ZX gate"
   ]
  },
  {
   "cell_type": "code",
   "execution_count": null,
   "metadata": {
    "colab": {
     "base_uri": "https://localhost:8080/",
     "height": 140
    },
    "executionInfo": {
     "elapsed": 457,
     "status": "ok",
     "timestamp": 1667752593653,
     "user": {
      "displayName": "Rafid Khan",
      "userId": "05331743219504675786"
     },
     "user_tz": -360
    },
    "id": "XJ-J1OENspHD",
    "outputId": "60aad752-e427-4dcb-d7bb-758e106f85ff"
   },
   "outputs": [
    {
     "data": {
      "image/png": "[encoded data removed]",
      "text/plain": [
       "<Figure size 453.934x144.48 with 1 Axes>"
      ]
     },
     "execution_count": 4,
     "metadata": {},
     "output_type": "execute_result"
    }
   ],
   "source": [
    "#message to send\n",
    "message = '10'\n",
    "\n",
    "#conditions\n",
    "if message[1] == '1':\n",
    "  superdense_coding_circuit.x(0)\n",
    "\n",
    "if message[0] == '1':\n",
    "  superdense_coding_circuit.z(1)\n",
    "\n",
    "superdense_coding_circuit.barrier()\n",
    "\n",
    "superdense_coding_circuit.draw(initial_state=True, output='mpl')\n",
    "\n",
    "\n"
   ]
  },
  {
   "cell_type": "markdown",
   "metadata": {
    "id": "iDnm341Itkil"
   },
   "source": [
    "#Bob decodes alice's message"
   ]
  },
  {
   "cell_type": "code",
   "execution_count": null,
   "metadata": {
    "colab": {
     "base_uri": "https://localhost:8080/",
     "height": 140
    },
    "executionInfo": {
     "elapsed": 771,
     "status": "ok",
     "timestamp": 1667752594419,
     "user": {
      "displayName": "Rafid Khan",
      "userId": "05331743219504675786"
     },
     "user_tz": -360
    },
    "id": "SN1gaUV5tK0c",
    "outputId": "66922fc8-c797-4525-92e1-4c03245038b6"
   },
   "outputs": [
    {
     "data": {
      "image/png": "[encoded data removed]",
      "text/plain": [
       "<Figure size 574.334x144.48 with 1 Axes>"
      ]
     },
     "execution_count": 5,
     "metadata": {},
     "output_type": "execute_result"
    }
   ],
   "source": [
    "#Bob applies cx gate\n",
    "superdense_coding_circuit.cx(1,0)\n",
    "\n",
    "#bob applies h gate\n",
    "superdense_coding_circuit.h(1)\n",
    "\n",
    "superdense_coding_circuit.draw(initial_state=True, output='mpl')"
   ]
  },
  {
   "cell_type": "markdown",
   "metadata": {
    "id": "Vk9nvqAYu5MG"
   },
   "source": [
    "#Apply Measurement"
   ]
  },
  {
   "cell_type": "code",
   "execution_count": null,
   "metadata": {
    "colab": {
     "base_uri": "https://localhost:8080/",
     "height": 185
    },
    "executionInfo": {
     "elapsed": 8,
     "status": "ok",
     "timestamp": 1667752594420,
     "user": {
      "displayName": "Rafid Khan",
      "userId": "05331743219504675786"
     },
     "user_tz": -360
    },
    "id": "4qa8gQi_u8Gl",
    "outputId": "5c641fe4-92e0-4317-d4cb-bf1b59b193de"
   },
   "outputs": [
    {
     "data": {
      "image/png": "[encoded data removed]",
      "text/plain": [
       "<Figure size 754.934x204.68 with 1 Axes>"
      ]
     },
     "execution_count": 6,
     "metadata": {},
     "output_type": "execute_result"
    }
   ],
   "source": [
    "#Measure alice and bob qubit\n",
    "superdense_coding_circuit.measure_all()\n",
    "\n",
    "superdense_coding_circuit.draw(initial_state=True, output='mpl')"
   ]
  },
  {
   "cell_type": "markdown",
   "metadata": {
    "id": "c33fCfIsvMaG"
   },
   "source": [
    "#Creating another superdense coding circuit"
   ]
  },
  {
   "cell_type": "code",
   "execution_count": null,
   "metadata": {
    "id": "XFYOzuNNvIXk"
   },
   "outputs": [],
   "source": [
    "import copy\n",
    "\n",
    "second_superdense_coding_circuit = copy.deepcopy(superdense_coding_circuit)"
   ]
  },
  {
   "cell_type": "markdown",
   "metadata": {
    "id": "P6ihj-1QvhUO"
   },
   "source": [
    "#Run on Simulator"
   ]
  },
  {
   "cell_type": "code",
   "execution_count": null,
   "metadata": {
    "colab": {
     "base_uri": "https://localhost:8080/"
    },
    "executionInfo": {
     "elapsed": 5234,
     "status": "ok",
     "timestamp": 1667752599648,
     "user": {
      "displayName": "Rafid Khan",
      "userId": "05331743219504675786"
     },
     "user_tz": -360
    },
    "id": "STUjP9uhvi40",
    "outputId": "334214fd-6f36-43af-84de-d6801f6a6d20"
   },
   "outputs": [
    {
     "name": "stdout",
     "output_type": "stream",
     "text": [
      "Job Status: job has successfully run\n"
     ]
    }
   ],
   "source": [
    "#select simulator\n",
    "simulator = Aer.get_backend('aer_simulator')\n",
    "\n",
    "#save statevectr\n",
    "superdense_coding_circuit.save_statevector()\n",
    "\n",
    "#assemble\n",
    "qobj = assemble(superdense_coding_circuit)\n",
    "\n",
    "#run\n",
    "job = simulator.run(superdense_coding_circuit)\n",
    "\n",
    "#job monitor\n",
    "job_monitor(job)\n",
    "\n",
    "#get result\n",
    "result = job.result()"
   ]
  },
  {
   "cell_type": "markdown",
   "metadata": {
    "id": "LLvomEP_vxTt"
   },
   "source": [
    "#Count visualization"
   ]
  },
  {
   "cell_type": "code",
   "execution_count": null,
   "metadata": {
    "colab": {
     "base_uri": "https://localhost:8080/",
     "height": 331
    },
    "executionInfo": {
     "elapsed": 9,
     "status": "ok",
     "timestamp": 1667752599648,
     "user": {
      "displayName": "Rafid Khan",
      "userId": "05331743219504675786"
     },
     "user_tz": -360
    },
    "id": "ivahKkdkvw41",
    "outputId": "8b0f915f-4c23-4d4d-a95b-a5f6ddce19fa"
   },
   "outputs": [
    {
     "data": {
      "image/png": "[encoded data removed]",
      "text/plain": [
       "<Figure size 504x360 with 1 Axes>"
      ]
     },
     "execution_count": 9,
     "metadata": {},
     "output_type": "execute_result"
    }
   ],
   "source": [
    "plot_histogram(result.get_counts())"
   ]
  },
  {
   "cell_type": "markdown",
   "metadata": {
    "id": "hhdUJThYw1mE"
   },
   "source": []
  },
  {
   "cell_type": "markdown",
   "metadata": {
    "id": "30JJiOMgv9jl"
   },
   "source": [
    "Everytime we get 10, so the message is successfully decoded."
   ]
  },
  {
   "cell_type": "markdown",
   "metadata": {
    "id": "0ZErQjKfw3Nl"
   },
   "source": [
    "#Run on real device"
   ]
  },
  {
   "cell_type": "code",
   "execution_count": null,
   "metadata": {
    "colab": {
     "base_uri": "https://localhost:8080/"
    },
    "executionInfo": {
     "elapsed": 81654,
     "status": "ok",
     "timestamp": 1667752681294,
     "user": {
      "displayName": "Rafid Khan",
      "userId": "05331743219504675786"
     },
     "user_tz": -360
    },
    "id": "FXeAFDU0w2eb",
    "outputId": "74e45310-c4ba-4a39-dda8-49debc9a38a6"
   },
   "outputs": [
    {
     "name": "stderr",
     "output_type": "stream",
     "text": [
      "configrc.store_credentials:WARNING:2022-11-06 16:36:39,724: Credentials already present. Set overwrite=True to overwrite.\n"
     ]
    },
    {
     "name": "stdout",
     "output_type": "stream",
     "text": [
      "ibmq_manila\n",
      "Job Status: job has successfully run\n"
     ]
    }
   ],
   "source": [
    "#get the least busy backend at IBM and run the quantum circuit there\n",
    "from qiskit.providers.ibmq import least_busy\n",
    "from qiskit.tools.monitor import job_monitor\n",
    "\n",
    "IBMQ.save_account('2fb508208e14db369716764df552364ae1a91a6483ea34f6405b74d7805dc0732bdf899e3568959d8ef139e3af389bb82ed59d08caeeabb1e60dcab8e1a3d328')\n",
    "IBMQ.load_account()\n",
    "provider = IBMQ.get_provider('ibm-q')\n",
    "\n",
    "qcomp = provider.get_backend('ibmq_quito')\n",
    "\n",
    "backend = least_busy(provider.backends(filters=lambda b: b.configuration().n_qubits>= 3 and not b.configuration().simulator and b.status().operational==True))\n",
    "\n",
    "print(backend)\n",
    "t_qc = transpile(second_superdense_coding_circuit,backend,optimization_level=3)\n",
    "job = backend.run(t_qc)\n",
    "job_monitor(job)"
   ]
  },
  {
   "cell_type": "markdown",
   "metadata": {
    "id": "PK3b-j5nx3LW"
   },
   "source": [
    "#Result"
   ]
  },
  {
   "cell_type": "code",
   "execution_count": null,
   "metadata": {
    "colab": {
     "base_uri": "https://localhost:8080/",
     "height": 331
    },
    "executionInfo": {
     "elapsed": 398,
     "status": "ok",
     "timestamp": 1667753168010,
     "user": {
      "displayName": "Rafid Khan",
      "userId": "05331743219504675786"
     },
     "user_tz": -360
    },
    "id": "sJYgEogWv6FM",
    "outputId": "e3ce5bf2-8e27-4677-91cc-3be73063a3fb"
   },
   "outputs": [
    {
     "data": {
      "image/png": "[encoded data removed]",
      "text/plain": [
       "<Figure size 504x360 with 1 Axes>"
      ]
     },
     "execution_count": 13,
     "metadata": {},
     "output_type": "execute_result"
    }
   ],
   "source": [
    "result = job.result()\n",
    "counts = result.get_counts(second_superdense_coding_circuit)\n",
    "plot_histogram(counts)"
   ]
  },
  {
   "cell_type": "markdown",
   "metadata": {
    "id": "aEUbKZsQ1UlE"
   },
   "source": [
    "# #Measure Accuracy"
   ]
  },
  {
   "cell_type": "code",
   "execution_count": null,
   "metadata": {
    "colab": {
     "base_uri": "https://localhost:8080/"
    },
    "executionInfo": {
     "elapsed": 393,
     "status": "ok",
     "timestamp": 1667753235135,
     "user": {
      "displayName": "Rafid Khan",
      "userId": "05331743219504675786"
     },
     "user_tz": -360
    },
    "id": "XUpnM4391Wa1",
    "outputId": "04a27ca6-a3f8-469f-fae7-dc70192352c2"
   },
   "outputs": [
    {
     "name": "stdout",
     "output_type": "stream",
     "text": [
      "{'00': 206, '01': 10, '10': 3744, '11': 40}\n",
      "4000\n"
     ]
    }
   ],
   "source": [
    "print(counts)\n",
    "y=0\n",
    "for x in counts:\n",
    "  y = y+counts[x]\n",
    "\n",
    "print(y)"
   ]
  },
  {
   "cell_type": "code",
   "execution_count": null,
   "metadata": {
    "colab": {
     "base_uri": "https://localhost:8080/"
    },
    "executionInfo": {
     "elapsed": 705,
     "status": "ok",
     "timestamp": 1667757765972,
     "user": {
      "displayName": "Rafid Khan",
      "userId": "05331743219504675786"
     },
     "user_tz": -360
    },
    "id": "oEfEhDGv1psz",
    "outputId": "568ef3a1-0211-4551-9d0c-42de3a0a0424"
   },
   "outputs": [
    {
     "name": "stdout",
     "output_type": "stream",
     "text": [
      "3744\n",
      "Accuracy: 93.60000000000001\n"
     ]
    }
   ],
   "source": [
    "correct_results = counts[message]\n",
    "print(correct_results)\n",
    "accuracy = (correct_results/y)*100\n",
    "print('Accuracy:', accuracy)"
   ]
  },
  {
   "cell_type": "code",
   "execution_count": null,
   "metadata": {
    "id": "glNcUnl92BfT"
   },
   "outputs": [],
   "source": []
  }
 ],
 "metadata": {
  "colab": {
   "authorship_tag": "ABX9TyPKdDpMCEw8apwJytrNL3Tl",
   "provenance": []
  },
  "kernelspec": {
   "display_name": "Python 3 (ipykernel)",
   "language": "python",
   "name": "python3"
  },
  "language_info": {
   "codemirror_mode": {
    "name": "ipython",
    "version": 3
   },
   "file_extension": ".py",
   "mimetype": "text/x-python",
   "name": "python",
   "nbconvert_exporter": "python",
   "pygments_lexer": "ipython3",
   "version": "3.10.10"
  }
 },
 "nbformat": 4,
 "nbformat_minor": 1
}
