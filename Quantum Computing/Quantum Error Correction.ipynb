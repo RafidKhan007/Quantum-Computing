{
 "cells": [
  {
   "cell_type": "markdown",
   "metadata": {
    "id": "QWo5vFUCpiTu"
   },
   "source": [
    "#Quantum error correction using repetion code\n",
    "\n",
    "#Logical qubit:\n",
    "#Physical qubit:\n",
    "#Implementation in physical qubits\n",
    "#Error correction technique"
   ]
  },
  {
   "cell_type": "markdown",
   "metadata": {
    "id": "BZVfKWhXp-hO"
   },
   "source": [
    "#Overview of quantum repetion code\n",
    "\n",
    "#logical qubit -->> encode --> pysical qubits\n",
    "#logical bit -->> encode --> physical qubits"
   ]
  },
  {
   "cell_type": "markdown",
   "metadata": {
    "id": "P5vyqWQ3qPRO"
   },
   "source": [
    "#Basics of error correction\n",
    "\n",
    "1. How important is it to you that you are understood correctly\n",
    "2. How good is your connection\n",
    "\n",
    "P_a = acceptable probability of being misunderstood\n",
    "\n",
    "Ice-cream --> P_a --> close to 1\n",
    "\n",
    "life -----> P_a --> close to 0\n",
    "\n",
    "P= completely misunderstood/understood\n",
    "\n",
    "P--> 0 => conncection poor/ completely misunderstood\n",
    "p--> 1 => connection good/ completely understood"
   ]
  },
  {
   "cell_type": "markdown",
   "metadata": {
    "id": "t8ozGFUkqfam"
   },
   "source": [
    "#Case1: connection is good + question and answer is unimportant to you\n",
    "\n",
    "#P > P_a"
   ]
  },
  {
   "cell_type": "markdown",
   "metadata": {
    "id": "fIDnRwBe4SpO"
   },
   "source": [
    "#Case2: connection is poor +question and answer is important to you\n",
    "#P < P_a\n",
    "\n",
    "Not enough single 'yes or 'no\n",
    "\n",
    "yes yes yes ---> yes yes no ---> yes\n",
    "\n",
    "0 0 0 ---> 0 0 1 ---> 0\n",
    "\n",
    "|0> |0> |0> ---> |0> |0> |1> ---> |0>"
   ]
  },
  {
   "cell_type": "markdown",
   "metadata": {
    "id": "HM9d_PLQ5R08"
   },
   "source": [
    "#Aspects of error correction\n",
    "\n",
    "1. Some information that we need to send/store\n",
    "2. Information is encoded in a larger system -> repeating message\n",
    "3. Information is decoded -> trusting the majority voting"
   ]
  },
  {
   "cell_type": "markdown",
   "metadata": {
    "id": "ZD8xAhn35R5L"
   },
   "source": [
    "#Demonstrate using qiskit\n",
    "\n",
    "#Real device --> multiple types of noise\n",
    "\n",
    "\n"
   ]
  },
  {
   "cell_type": "markdown",
   "metadata": {
    "id": "HnpjUtXZ7QDk"
   },
   "source": [
    "#Noise model\n",
    "\n",
    "#Gate error --> an imperfection in any operation we perform\n",
    "#Measurement error --> probability of bit flip before final measurement"
   ]
  },
  {
   "cell_type": "markdown",
   "metadata": {
    "id": "JPA0VHoi7k9T"
   },
   "source": [
    "#Installing libraries"
   ]
  },
  {
   "cell_type": "code",
   "execution_count": null,
   "metadata": {
    "colab": {
     "base_uri": "https://localhost:8080/"
    },
    "executionInfo": {
     "elapsed": 41555,
     "status": "ok",
     "timestamp": 1667821961184,
     "user": {
      "displayName": "Rafid Khan",
      "userId": "05331743219504675786"
     },
     "user_tz": -360
    },
    "id": "ng33ajTqp2gA",
    "outputId": "c91c7a64-8749-4ca4-c766-68531df3371b"
   },
   "outputs": [
    {
     "name": "stdout",
     "output_type": "stream",
     "text": [
      "Looking in indexes: https://pypi.org/simple, https://us-python.pkg.dev/colab-wheels/public/simple/\n",
      "Collecting qiskit\n",
      "  Downloading qiskit-0.39.2.tar.gz (13 kB)\n",
      "Collecting qiskit-terra==0.22.2\n",
      "  Downloading qiskit_terra-0.22.2-cp37-cp37m-manylinux_2_17_x86_64.manylinux2014_x86_64.whl (4.8 MB)\n",
      "\u001b[K     |████████████████████████████████| 4.8 MB 5.3 MB/s \n",
      "\u001b[?25hCollecting qiskit-aer==0.11.1\n",
      "  Downloading qiskit_aer-0.11.1-cp37-cp37m-manylinux_2_17_x86_64.manylinux2014_x86_64.whl (19.2 MB)\n",
      "\u001b[K     |████████████████████████████████| 19.2 MB 2.7 MB/s \n",
      "\u001b[?25hCollecting qiskit-ibmq-provider==0.19.2\n",
      "  Downloading qiskit_ibmq_provider-0.19.2-py3-none-any.whl (240 kB)\n",
      "\u001b[K     |████████████████████████████████| 240 kB 28.7 MB/s \n",
      "\u001b[?25hRequirement already satisfied: scipy>=1.0 in /usr/local/lib/python3.7/dist-packages (from qiskit-aer==0.11.1->qiskit) (1.7.3)\n",
      "Requirement already satisfied: numpy>=1.16.3 in /usr/local/lib/python3.7/dist-packages (from qiskit-aer==0.11.1->qiskit) (1.21.6)\n",
      "Requirement already satisfied: python-dateutil>=2.8.0 in /usr/local/lib/python3.7/dist-packages (from qiskit-ibmq-provider==0.19.2->qiskit) (2.8.2)\n",
      "Requirement already satisfied: urllib3>=1.21.1 in /usr/local/lib/python3.7/dist-packages (from qiskit-ibmq-provider==0.19.2->qiskit) (1.24.3)\n",
      "Collecting websockets>=10.0\n",
      "  Downloading websockets-10.4-cp37-cp37m-manylinux_2_5_x86_64.manylinux1_x86_64.manylinux_2_17_x86_64.manylinux2014_x86_64.whl (106 kB)\n",
      "\u001b[K     |████████████████████████████████| 106 kB 13.6 MB/s \n",
      "\u001b[?25hRequirement already satisfied: requests>=2.19 in /usr/local/lib/python3.7/dist-packages (from qiskit-ibmq-provider==0.19.2->qiskit) (2.23.0)\n",
      "Collecting requests-ntlm>=1.1.0\n",
      "  Downloading requests_ntlm-1.1.0-py2.py3-none-any.whl (5.7 kB)\n",
      "Collecting websocket-client>=1.0.1\n",
      "  Downloading websocket_client-1.4.2-py3-none-any.whl (55 kB)\n",
      "\u001b[K     |████████████████████████████████| 55 kB 1.7 MB/s \n",
      "\u001b[?25hCollecting symengine>=0.9\n",
      "  Downloading symengine-0.9.2-cp37-cp37m-manylinux2010_x86_64.whl (37.5 MB)\n",
      "\u001b[K     |████████████████████████████████| 37.5 MB 1.4 MB/s \n",
      "\u001b[?25hRequirement already satisfied: dill>=0.3 in /usr/local/lib/python3.7/dist-packages (from qiskit-terra==0.22.2->qiskit) (0.3.6)\n",
      "Requirement already satisfied: psutil>=5 in /usr/local/lib/python3.7/dist-packages (from qiskit-terra==0.22.2->qiskit) (5.4.8)\n",
      "Collecting shared-memory38\n",
      "  Downloading shared_memory38-0.1.2-cp37-cp37m-manylinux_2_5_x86_64.manylinux1_x86_64.whl (25 kB)\n",
      "Requirement already satisfied: sympy>=1.3 in /usr/local/lib/python3.7/dist-packages (from qiskit-terra==0.22.2->qiskit) (1.7.1)\n",
      "Collecting tweedledum<2.0,>=1.1\n",
      "  Downloading tweedledum-1.1.1-cp37-cp37m-manylinux_2_12_x86_64.manylinux2010_x86_64.whl (943 kB)\n",
      "\u001b[K     |████████████████████████████████| 943 kB 37.5 MB/s \n",
      "\u001b[?25hCollecting stevedore>=3.0.0\n",
      "  Downloading stevedore-3.5.2-py3-none-any.whl (50 kB)\n",
      "\u001b[K     |████████████████████████████████| 50 kB 3.4 MB/s \n",
      "\u001b[?25hRequirement already satisfied: importlib-metadata<5.0 in /usr/local/lib/python3.7/dist-packages (from qiskit-terra==0.22.2->qiskit) (4.13.0)\n",
      "Collecting retworkx>=0.11.0\n",
      "  Downloading retworkx-0.12.0-py3-none-any.whl (10 kB)\n",
      "Requirement already satisfied: typing-extensions in /usr/local/lib/python3.7/dist-packages (from qiskit-terra==0.22.2->qiskit) (4.1.1)\n",
      "Collecting ply>=3.10\n",
      "  Downloading ply-3.11-py2.py3-none-any.whl (49 kB)\n",
      "\u001b[K     |████████████████████████████████| 49 kB 3.2 MB/s \n",
      "\u001b[?25hRequirement already satisfied: zipp>=0.5 in /usr/local/lib/python3.7/dist-packages (from importlib-metadata<5.0->qiskit-terra==0.22.2->qiskit) (3.10.0)\n",
      "Requirement already satisfied: six>=1.5 in /usr/local/lib/python3.7/dist-packages (from python-dateutil>=2.8.0->qiskit-ibmq-provider==0.19.2->qiskit) (1.15.0)\n",
      "Requirement already satisfied: idna<3,>=2.5 in /usr/local/lib/python3.7/dist-packages (from requests>=2.19->qiskit-ibmq-provider==0.19.2->qiskit) (2.10)\n",
      "Requirement already satisfied: chardet<4,>=3.0.2 in /usr/local/lib/python3.7/dist-packages (from requests>=2.19->qiskit-ibmq-provider==0.19.2->qiskit) (3.0.4)\n",
      "Requirement already satisfied: certifi>=2017.4.17 in /usr/local/lib/python3.7/dist-packages (from requests>=2.19->qiskit-ibmq-provider==0.19.2->qiskit) (2022.9.24)\n",
      "Collecting cryptography>=1.3\n",
      "  Downloading cryptography-38.0.3-cp36-abi3-manylinux_2_24_x86_64.whl (4.1 MB)\n",
      "\u001b[K     |████████████████████████████████| 4.1 MB 36.2 MB/s \n",
      "\u001b[?25hCollecting ntlm-auth>=1.0.2\n",
      "  Downloading ntlm_auth-1.5.0-py2.py3-none-any.whl (29 kB)\n",
      "Requirement already satisfied: cffi>=1.12 in /usr/local/lib/python3.7/dist-packages (from cryptography>=1.3->requests-ntlm>=1.1.0->qiskit-ibmq-provider==0.19.2->qiskit) (1.15.1)\n",
      "Requirement already satisfied: pycparser in /usr/local/lib/python3.7/dist-packages (from cffi>=1.12->cryptography>=1.3->requests-ntlm>=1.1.0->qiskit-ibmq-provider==0.19.2->qiskit) (2.21)\n",
      "Collecting rustworkx==0.12.0\n",
      "  Downloading rustworkx-0.12.0-cp37-cp37m-manylinux_2_17_x86_64.manylinux2014_x86_64.whl (1.9 MB)\n",
      "\u001b[K     |████████████████████████████████| 1.9 MB 38.7 MB/s \n",
      "\u001b[?25hCollecting pbr!=2.1.0,>=2.0.0\n",
      "  Downloading pbr-5.11.0-py2.py3-none-any.whl (112 kB)\n",
      "\u001b[K     |████████████████████████████████| 112 kB 43.3 MB/s \n",
      "\u001b[?25hRequirement already satisfied: mpmath>=0.19 in /usr/local/lib/python3.7/dist-packages (from sympy>=1.3->qiskit-terra==0.22.2->qiskit) (1.2.1)\n",
      "Building wheels for collected packages: qiskit\n",
      "  Building wheel for qiskit (setup.py) ... \u001b[?25l\u001b[?25hdone\n",
      "  Created wheel for qiskit: filename=qiskit-0.39.2-py3-none-any.whl size=12226 sha256=db20ae64b37e27ab6fcd53eb8fc05b17df4d7e83ecbf4e3c39e2626959264d77\n",
      "  Stored in directory: /root/.cache/pip/wheels/30/dc/90/0ee55ccffd13c16db1abd4c43028f7c9cedb5576b190402190\n",
      "Successfully built qiskit\n",
      "Installing collected packages: rustworkx, pbr, tweedledum, symengine, stevedore, shared-memory38, retworkx, ply, ntlm-auth, cryptography, websockets, websocket-client, requests-ntlm, qiskit-terra, qiskit-ibmq-provider, qiskit-aer, qiskit\n",
      "Successfully installed cryptography-38.0.3 ntlm-auth-1.5.0 pbr-5.11.0 ply-3.11 qiskit-0.39.2 qiskit-aer-0.11.1 qiskit-ibmq-provider-0.19.2 qiskit-terra-0.22.2 requests-ntlm-1.1.0 retworkx-0.12.0 rustworkx-0.12.0 shared-memory38-0.1.2 stevedore-3.5.2 symengine-0.9.2 tweedledum-1.1.1 websocket-client-1.4.2 websockets-10.4\n",
      "Looking in indexes: https://pypi.org/simple, https://us-python.pkg.dev/colab-wheels/public/simple/\n",
      "Collecting qiskit.ignis\n",
      "  Downloading qiskit_ignis-0.7.1-py3-none-any.whl (198 kB)\n",
      "\u001b[K     |████████████████████████████████| 198 kB 4.8 MB/s \n",
      "\u001b[?25hRequirement already satisfied: numpy>=1.13 in /usr/local/lib/python3.7/dist-packages (from qiskit.ignis) (1.21.6)\n",
      "Requirement already satisfied: scipy!=0.19.1,>=0.19 in /usr/local/lib/python3.7/dist-packages (from qiskit.ignis) (1.7.3)\n",
      "Requirement already satisfied: retworkx>=0.8.0 in /usr/local/lib/python3.7/dist-packages (from qiskit.ignis) (0.12.0)\n",
      "Requirement already satisfied: setuptools>=40.1.0 in /usr/local/lib/python3.7/dist-packages (from qiskit.ignis) (57.4.0)\n",
      "Requirement already satisfied: qiskit-terra>=0.15.1 in /usr/local/lib/python3.7/dist-packages (from qiskit.ignis) (0.22.2)\n",
      "Requirement already satisfied: sympy>=1.3 in /usr/local/lib/python3.7/dist-packages (from qiskit-terra>=0.15.1->qiskit.ignis) (1.7.1)\n",
      "Requirement already satisfied: stevedore>=3.0.0 in /usr/local/lib/python3.7/dist-packages (from qiskit-terra>=0.15.1->qiskit.ignis) (3.5.2)\n",
      "Requirement already satisfied: importlib-metadata<5.0 in /usr/local/lib/python3.7/dist-packages (from qiskit-terra>=0.15.1->qiskit.ignis) (4.13.0)\n",
      "Requirement already satisfied: python-dateutil>=2.8.0 in /usr/local/lib/python3.7/dist-packages (from qiskit-terra>=0.15.1->qiskit.ignis) (2.8.2)\n",
      "Requirement already satisfied: dill>=0.3 in /usr/local/lib/python3.7/dist-packages (from qiskit-terra>=0.15.1->qiskit.ignis) (0.3.6)\n",
      "Requirement already satisfied: typing-extensions in /usr/local/lib/python3.7/dist-packages (from qiskit-terra>=0.15.1->qiskit.ignis) (4.1.1)\n",
      "Requirement already satisfied: psutil>=5 in /usr/local/lib/python3.7/dist-packages (from qiskit-terra>=0.15.1->qiskit.ignis) (5.4.8)\n",
      "Requirement already satisfied: shared-memory38 in /usr/local/lib/python3.7/dist-packages (from qiskit-terra>=0.15.1->qiskit.ignis) (0.1.2)\n",
      "Requirement already satisfied: symengine>=0.9 in /usr/local/lib/python3.7/dist-packages (from qiskit-terra>=0.15.1->qiskit.ignis) (0.9.2)\n",
      "Requirement already satisfied: tweedledum<2.0,>=1.1 in /usr/local/lib/python3.7/dist-packages (from qiskit-terra>=0.15.1->qiskit.ignis) (1.1.1)\n",
      "Requirement already satisfied: ply>=3.10 in /usr/local/lib/python3.7/dist-packages (from qiskit-terra>=0.15.1->qiskit.ignis) (3.11)\n",
      "Requirement already satisfied: zipp>=0.5 in /usr/local/lib/python3.7/dist-packages (from importlib-metadata<5.0->qiskit-terra>=0.15.1->qiskit.ignis) (3.10.0)\n",
      "Requirement already satisfied: six>=1.5 in /usr/local/lib/python3.7/dist-packages (from python-dateutil>=2.8.0->qiskit-terra>=0.15.1->qiskit.ignis) (1.15.0)\n",
      "Requirement already satisfied: rustworkx==0.12.0 in /usr/local/lib/python3.7/dist-packages (from retworkx>=0.8.0->qiskit.ignis) (0.12.0)\n",
      "Requirement already satisfied: pbr!=2.1.0,>=2.0.0 in /usr/local/lib/python3.7/dist-packages (from stevedore>=3.0.0->qiskit-terra>=0.15.1->qiskit.ignis) (5.11.0)\n",
      "Requirement already satisfied: mpmath>=0.19 in /usr/local/lib/python3.7/dist-packages (from sympy>=1.3->qiskit-terra>=0.15.1->qiskit.ignis) (1.2.1)\n",
      "Installing collected packages: qiskit.ignis\n",
      "Successfully installed qiskit.ignis-0.7.1\n",
      "Looking in indexes: https://pypi.org/simple, https://us-python.pkg.dev/colab-wheels/public/simple/\n",
      "Collecting pylatexenc\n",
      "  Downloading pylatexenc-2.10.tar.gz (162 kB)\n",
      "\u001b[K     |████████████████████████████████| 162 kB 5.0 MB/s \n",
      "\u001b[?25hBuilding wheels for collected packages: pylatexenc\n",
      "  Building wheel for pylatexenc (setup.py) ... \u001b[?25l\u001b[?25hdone\n",
      "  Created wheel for pylatexenc: filename=pylatexenc-2.10-py3-none-any.whl size=136835 sha256=1b7a03077febecabb3a066cfd66d0d0b17c9aee4f00e0d9fc04a7e2ee2eee7a7\n",
      "  Stored in directory: /root/.cache/pip/wheels/f1/8a/f5/33ee79d4473eb201b519fa40f989b842e373237395a3421f52\n",
      "Successfully built pylatexenc\n",
      "Installing collected packages: pylatexenc\n",
      "Successfully installed pylatexenc-2.10\n"
     ]
    }
   ],
   "source": [
    "!pip install qiskit\n",
    "!pip install qiskit.ignis\n",
    "!pip install pylatexenc"
   ]
  },
  {
   "cell_type": "code",
   "execution_count": null,
   "metadata": {
    "id": "kO1nh8uY7qyj"
   },
   "outputs": [],
   "source": [
    "from qiskit import *\n",
    "from qiskit.providers.aer.noise import NoiseModel\n",
    "from qiskit.providers.aer.noise.errors import pauli_error, depolarizing_error\n",
    "from qiskit.visualization import plot_histogram"
   ]
  },
  {
   "cell_type": "markdown",
   "metadata": {
    "id": "ZKqpv5-d8QfT"
   },
   "source": [
    "#Noise model funcion"
   ]
  },
  {
   "cell_type": "code",
   "execution_count": null,
   "metadata": {
    "id": "0JjsCdZ98LUK"
   },
   "outputs": [],
   "source": [
    "from IPython.core.interactiveshell import error\n",
    "def get_noise(p_gate, p_measure):\n",
    "  measure_error = pauli_error([('X', p_measure), ('I', 1-p_measure)])\n",
    "  error_gate1 = depolarizing_error(p_gate, 1) #1 qubit error\n",
    "  error_gate2 = error_gate1.tensor(error_gate1) #2 qubit error\n",
    "\n",
    "  noise_model = NoiseModel()\n",
    "\n",
    "  #apply measurement error to noise model\n",
    "  noise_model.add_all_qubit_quantum_error(measure_error, 'measure')\n",
    "\n",
    "  #apply 1 qubit error\n",
    "  noise_model.add_all_qubit_quantum_error(error_gate1, [\"X\"])\n",
    "\n",
    "  #apply 2 qubit error\n",
    "  noise_model.add_all_qubit_quantum_error(error_gate2, [\"CX\"])\n",
    "\n",
    "  return noise_model"
   ]
  },
  {
   "cell_type": "markdown",
   "metadata": {
    "id": "EqxecEul9gUt"
   },
   "source": [
    "#Create noise model"
   ]
  },
  {
   "cell_type": "code",
   "execution_count": null,
   "metadata": {
    "id": "0uIK_Zjn9hyQ"
   },
   "outputs": [],
   "source": [
    "noise_model = get_noise(0.01, 0.01)"
   ]
  },
  {
   "cell_type": "markdown",
   "metadata": {
    "id": "jTc7C2Ay9-Sr"
   },
   "source": [
    "#Encoding with physical qubits"
   ]
  },
  {
   "cell_type": "code",
   "execution_count": null,
   "metadata": {
    "colab": {
     "base_uri": "https://localhost:8080/",
     "height": 231
    },
    "executionInfo": {
     "elapsed": 453,
     "status": "ok",
     "timestamp": 1667822862860,
     "user": {
      "displayName": "Rafid Khan",
      "userId": "05331743219504675786"
     },
     "user_tz": -360
    },
    "id": "dbB-RodT9naa",
    "outputId": "296888bf-af87-4811-fe1c-65bb2283b98e"
   },
   "outputs": [
    {
     "data": {
      "image/png": "[encoded data removed]",
      "text/plain": [
       "<Figure size 377.291x264.88 with 1 Axes>"
      ]
     },
     "execution_count": 10,
     "metadata": {},
     "output_type": "execute_result"
    }
   ],
   "source": [
    "#Create 3 qubits\n",
    "circuit = QuantumCircuit(3)\n",
    "circuit.measure_all()\n",
    "\n",
    "circuit.draw(initial_state=True, output='mpl')"
   ]
  },
  {
   "cell_type": "markdown",
   "metadata": {
    "id": "HLCyQBwa-f3L"
   },
   "source": [
    "#Run on simulator"
   ]
  },
  {
   "cell_type": "code",
   "execution_count": null,
   "metadata": {
    "colab": {
     "base_uri": "https://localhost:8080/",
     "height": 356
    },
    "executionInfo": {
     "elapsed": 5039,
     "status": "ok",
     "timestamp": 1667822764828,
     "user": {
      "displayName": "Rafid Khan",
      "userId": "05331743219504675786"
     },
     "user_tz": -360
    },
    "id": "YjENrhvf-RUh",
    "outputId": "d5b7bf89-1c86-46e4-fd45-9822fe73b5d2"
   },
   "outputs": [
    {
     "name": "stdout",
     "output_type": "stream",
     "text": [
      "Job Status: job has successfully run\n"
     ]
    },
    {
     "data": {
      "image/png": "[encoded data removed]",
      "text/plain": [
       "<Figure size 504x360 with 1 Axes>"
      ]
     },
     "execution_count": 6,
     "metadata": {},
     "output_type": "execute_result"
    }
   ],
   "source": [
    "from qiskit.tools import job_monitor\n",
    "\n",
    "#select simulator\n",
    "simulator = Aer.get_backend('aer_simulator')\n",
    "\n",
    "#save statevectr\n",
    "circuit.save_statevector()\n",
    "\n",
    "#assemble\n",
    "qobj = assemble(circuit)\n",
    "\n",
    "#run\n",
    "job = simulator.run(circuit)\n",
    "\n",
    "#job monitor\n",
    "job_monitor(job)\n",
    "\n",
    "#get result\n",
    "result = job.result()\n",
    "\n",
    "#get counts\n",
    "counts = result.get_counts()\n",
    "\n",
    "#plot histogram\n",
    "plot_histogram(counts)\n"
   ]
  },
  {
   "cell_type": "markdown",
   "metadata": {
    "id": "En_oBsqW-_nz"
   },
   "source": [
    "#Run simulator with noise"
   ]
  },
  {
   "cell_type": "code",
   "execution_count": null,
   "metadata": {
    "colab": {
     "base_uri": "https://localhost:8080/",
     "height": 356
    },
    "executionInfo": {
     "elapsed": 5668,
     "status": "ok",
     "timestamp": 1667822872899,
     "user": {
      "displayName": "Rafid Khan",
      "userId": "05331743219504675786"
     },
     "user_tz": -360
    },
    "id": "yo4CPTO2-6k5",
    "outputId": "bfcca2ce-2542-4a1b-bcf0-57a43633fd0f"
   },
   "outputs": [
    {
     "name": "stdout",
     "output_type": "stream",
     "text": [
      "Job Status: job has successfully run\n"
     ]
    },
    {
     "data": {
      "image/png": "[encoded data removed]",
      "text/plain": [
       "<Figure size 504x360 with 1 Axes>"
      ]
     },
     "execution_count": 11,
     "metadata": {},
     "output_type": "execute_result"
    }
   ],
   "source": [
    "from qiskit.tools import job_monitor\n",
    "\n",
    "#select simulator\n",
    "simulator = Aer.get_backend('aer_simulator')\n",
    "\n",
    "#save statevectr\n",
    "circuit.save_statevector()\n",
    "\n",
    "#assemble\n",
    "qobj = assemble(circuit)\n",
    "\n",
    "#run\n",
    "job = simulator.run(qobj, noise_model=noise_model)\n",
    "\n",
    "#job monitor\n",
    "job_monitor(job)\n",
    "\n",
    "#get result\n",
    "result = job.result()\n",
    "\n",
    "#get counts\n",
    "counts = result.get_counts()\n",
    "\n",
    "#plot histogram\n",
    "plot_histogram(counts)"
   ]
  },
  {
   "cell_type": "markdown",
   "metadata": {
    "id": "uUK2HYkz_k-E"
   },
   "source": [
    "#Encode logical 1 using 3 qubits"
   ]
  },
  {
   "cell_type": "code",
   "execution_count": null,
   "metadata": {
    "colab": {
     "base_uri": "https://localhost:8080/",
     "height": 231
    },
    "executionInfo": {
     "elapsed": 983,
     "status": "ok",
     "timestamp": 1667823201554,
     "user": {
      "displayName": "Rafid Khan",
      "userId": "05331743219504675786"
     },
     "user_tz": -360
    },
    "id": "Rw8Fe-40_NJK",
    "outputId": "7f5fd3bc-c022-412e-83d3-72a94cd5e7e3"
   },
   "outputs": [
    {
     "data": {
      "image/png": "[encoded data removed]",
      "text/plain": [
       "<Figure size 437.491x264.88 with 1 Axes>"
      ]
     },
     "execution_count": 16,
     "metadata": {},
     "output_type": "execute_result"
    }
   ],
   "source": [
    "#Create 3 qubits\n",
    "circuit = QuantumCircuit(3)\n",
    "\n",
    "#Apply x gate\n",
    "circuit.x([0,1,2])\n",
    "\n",
    "circuit.measure_all()\n",
    "\n",
    "circuit.draw(initial_state=True, output='mpl')"
   ]
  },
  {
   "cell_type": "markdown",
   "metadata": {
    "id": "R1HxJOra_-OM"
   },
   "source": [
    "#Run simulator with noise"
   ]
  },
  {
   "cell_type": "code",
   "execution_count": null,
   "metadata": {
    "colab": {
     "base_uri": "https://localhost:8080/",
     "height": 357
    },
    "executionInfo": {
     "elapsed": 5289,
     "status": "ok",
     "timestamp": 1667823055412,
     "user": {
      "displayName": "Rafid Khan",
      "userId": "05331743219504675786"
     },
     "user_tz": -360
    },
    "id": "VO7uITYT_3tq",
    "outputId": "19514385-1c2d-4d03-c647-fadc6f87418c"
   },
   "outputs": [
    {
     "name": "stdout",
     "output_type": "stream",
     "text": [
      "Job Status: job has successfully run\n"
     ]
    },
    {
     "data": {
      "image/png": "[encoded data removed]",
      "text/plain": [
       "<Figure size 504x360 with 1 Axes>"
      ]
     },
     "execution_count": 13,
     "metadata": {},
     "output_type": "execute_result"
    }
   ],
   "source": [
    "from qiskit.tools import job_monitor\n",
    "\n",
    "#select simulator\n",
    "simulator = Aer.get_backend('aer_simulator')\n",
    "\n",
    "#save statevectr\n",
    "circuit.save_statevector()\n",
    "\n",
    "#assemble\n",
    "qobj = assemble(circuit)\n",
    "\n",
    "#run\n",
    "job = simulator.run(qobj, noise_model=noise_model)\n",
    "\n",
    "#job monitor\n",
    "job_monitor(job)\n",
    "\n",
    "#get result\n",
    "result = job.result()\n",
    "\n",
    "#get counts\n",
    "counts = result.get_counts()\n",
    "\n",
    "#plot histogram\n",
    "plot_histogram(counts)"
   ]
  },
  {
   "cell_type": "markdown",
   "metadata": {
    "id": "r-3-tYObAPAE"
   },
   "source": [
    "#Increased error in noise model"
   ]
  },
  {
   "cell_type": "code",
   "execution_count": null,
   "metadata": {
    "id": "GtiOM8OkABgK"
   },
   "outputs": [],
   "source": [
    "#50% probability\n",
    "noise_model = get_noise(0.5,0.5)"
   ]
  },
  {
   "cell_type": "markdown",
   "metadata": {
    "id": "4tcZw62HAa58"
   },
   "source": [
    "#Run on simulator with noise"
   ]
  },
  {
   "cell_type": "code",
   "execution_count": null,
   "metadata": {
    "colab": {
     "base_uri": "https://localhost:8080/",
     "height": 357
    },
    "executionInfo": {
     "elapsed": 5648,
     "status": "ok",
     "timestamp": 1667823218208,
     "user": {
      "displayName": "Rafid Khan",
      "userId": "05331743219504675786"
     },
     "user_tz": -360
    },
    "id": "m0yh8fONAZei",
    "outputId": "c83d9c42-8097-4f6a-fad2-4ab50a8abfb8"
   },
   "outputs": [
    {
     "name": "stdout",
     "output_type": "stream",
     "text": [
      "Job Status: job has successfully run\n"
     ]
    },
    {
     "data": {
      "image/png": "[encoded data removed]",
      "text/plain": [
       "<Figure size 504x360 with 1 Axes>"
      ]
     },
     "execution_count": 18,
     "metadata": {},
     "output_type": "execute_result"
    }
   ],
   "source": [
    "from qiskit.tools import job_monitor\n",
    "\n",
    "#select simulator\n",
    "simulator = Aer.get_backend('aer_simulator')\n",
    "\n",
    "#save statevectr\n",
    "circuit.save_statevector()\n",
    "\n",
    "#assemble\n",
    "qobj = assemble(circuit)\n",
    "\n",
    "#run\n",
    "job = simulator.run(qobj, noise_model=noise_model)\n",
    "\n",
    "#job monitor\n",
    "job_monitor(job)\n",
    "\n",
    "#get result\n",
    "result = job.result()\n",
    "\n",
    "#get counts\n",
    "counts = result.get_counts()\n",
    "\n",
    "#plot histogram\n",
    "plot_histogram(counts)"
   ]
  },
  {
   "cell_type": "markdown",
   "metadata": {
    "id": "nUy-VMu6A3NU"
   },
   "source": [
    "#If noise is too strong it can not be corrected"
   ]
  },
  {
   "cell_type": "markdown",
   "metadata": {
    "id": "sxfF5MIgA9HD"
   },
   "source": [
    "#Other than gate and measurement error\n",
    "\n",
    "#|000> --> 0\n",
    "#|111> --> 1\n",
    "#|+++> --> 000/111 --> human made error/can not be coorected"
   ]
  },
  {
   "cell_type": "markdown",
   "metadata": {
    "id": "CeS9R47jA-DL"
   },
   "source": [
    "#Problem: Measurement destroys superposition + without measurement we can not keep track of error"
   ]
  },
  {
   "cell_type": "markdown",
   "metadata": {
    "id": "bDGZHOBSA-HS"
   },
   "source": [
    "#Syndrome measurement"
   ]
  },
  {
   "cell_type": "code",
   "execution_count": null,
   "metadata": {
    "colab": {
     "base_uri": "https://localhost:8080/",
     "height": 231
    },
    "executionInfo": {
     "elapsed": 1328,
     "status": "ok",
     "timestamp": 1667823849436,
     "user": {
      "displayName": "Rafid Khan",
      "userId": "05331743219504675786"
     },
     "user_tz": -360
    },
    "id": "WnN_Qma1A7Cy",
    "outputId": "59afbdeb-7023-40c6-b581-4a633587c0f8"
   },
   "outputs": [
    {
     "data": {
      "image/png": "[encoded data removed]",
      "text/plain": [
       "<Figure size 432.484x264.88 with 1 Axes>"
      ]
     },
     "execution_count": 22,
     "metadata": {},
     "output_type": "execute_result"
    }
   ],
   "source": [
    "from qiskit.pulse import cx\n",
    "\n",
    "#define 2 q register\n",
    "qr1 = QuantumRegister(2, name='code_qubits')\n",
    "qr2 = QuantumRegister(1, name='auxilary_qubit')\n",
    "\n",
    "#1 classical register\n",
    "cr1 = ClassicalRegister(1, name='syndrome_bit')\n",
    "\n",
    "#create circuit\n",
    "qc = QuantumCircuit(qr1, qr2, cr1)\n",
    "\n",
    "#apply cx gate to both code_qubits\n",
    "qc.cx(qr1[0], qr2[0])\n",
    "qc.cx(qr1[1], qr2[0])\n",
    "\n",
    "#measure auxilary qubit\n",
    "qc.measure(qr2[0], cr1[0])\n",
    "\n",
    "#draw circuit\n",
    "qc.draw(initial_state=True, output='mpl')"
   ]
  },
  {
   "cell_type": "markdown",
   "metadata": {
    "id": "UFiKPxPVDNfb"
   },
   "source": [
    "#Run on simlator"
   ]
  },
  {
   "cell_type": "code",
   "execution_count": null,
   "metadata": {
    "colab": {
     "base_uri": "https://localhost:8080/"
    },
    "executionInfo": {
     "elapsed": 5260,
     "status": "ok",
     "timestamp": 1667824008839,
     "user": {
      "displayName": "Rafid Khan",
      "userId": "05331743219504675786"
     },
     "user_tz": -360
    },
    "id": "mf3M-siWC42K",
    "outputId": "6fe31584-3072-4329-9e30-0261ec760940"
   },
   "outputs": [
    {
     "name": "stdout",
     "output_type": "stream",
     "text": [
      "Job Status: job has successfully run\n",
      "{'0': 1024}\n"
     ]
    }
   ],
   "source": [
    "from qiskit.tools import job_monitor\n",
    "\n",
    "#select simulator\n",
    "simulator = Aer.get_backend('aer_simulator')\n",
    "\n",
    "#save statevectr\n",
    "#circuit.save_statevector()\n",
    "\n",
    "#assemble\n",
    "qobj = assemble(qc)\n",
    "\n",
    "#run\n",
    "job = simulator.run(qobj)\n",
    "\n",
    "#job monitor\n",
    "job_monitor(job)\n",
    "\n",
    "#get result\n",
    "result = job.result()\n",
    "\n",
    "#get counts\n",
    "counts = result.get_counts()\n",
    "\n",
    "#plot histogram\n",
    "#plot_histogram(counts)\n",
    "\n",
    "print(counts)\n"
   ]
  },
  {
   "cell_type": "markdown",
   "metadata": {
    "id": "vGaXP-3fD90r"
   },
   "source": [
    "#Encode logical 1 and 2 physical qubits"
   ]
  },
  {
   "cell_type": "code",
   "execution_count": null,
   "metadata": {
    "colab": {
     "base_uri": "https://localhost:8080/",
     "height": 231
    },
    "executionInfo": {
     "elapsed": 1504,
     "status": "ok",
     "timestamp": 1667824233401,
     "user": {
      "displayName": "Rafid Khan",
      "userId": "05331743219504675786"
     },
     "user_tz": -360
    },
    "id": "hSWZMHLADqTp",
    "outputId": "a961b5d2-ae5f-420a-9059-979666fd07bd"
   },
   "outputs": [
    {
     "data": {
      "image/png": "[encoded data removed]",
      "text/plain": [
       "<Figure size 492.684x264.88 with 1 Axes>"
      ]
     },
     "execution_count": 25,
     "metadata": {},
     "output_type": "execute_result"
    }
   ],
   "source": [
    "from qiskit.pulse import cx\n",
    "\n",
    "#define 2 q register\n",
    "qr1 = QuantumRegister(2, name='code_qubits')\n",
    "qr2 = QuantumRegister(1, name='auxilary_qubit')\n",
    "\n",
    "#1 classical register\n",
    "cr1 = ClassicalRegister(1, name='syndrome_bit')\n",
    "\n",
    "#create circuit\n",
    "qc = QuantumCircuit(qr1, qr2, cr1)\n",
    "\n",
    "#apply x gate to both code_qubits\n",
    "qc.x([qr1[0], qr1[1]])\n",
    "\n",
    "#apply cx gate to both code_qubits\n",
    "qc.cx(qr1[0], qr2[0])\n",
    "qc.cx(qr1[1], qr2[0])\n",
    "\n",
    "#measure auxilary qubit\n",
    "qc.measure(qr2[0], cr1[0])\n",
    "\n",
    "#draw circuit\n",
    "qc.draw(initial_state=True, output='mpl')"
   ]
  },
  {
   "cell_type": "markdown",
   "metadata": {
    "id": "giyO6-HVEmXz"
   },
   "source": [
    "#Run on simulator"
   ]
  },
  {
   "cell_type": "code",
   "execution_count": null,
   "metadata": {
    "colab": {
     "base_uri": "https://localhost:8080/"
    },
    "executionInfo": {
     "elapsed": 5626,
     "status": "ok",
     "timestamp": 1667824274957,
     "user": {
      "displayName": "Rafid Khan",
      "userId": "05331743219504675786"
     },
     "user_tz": -360
    },
    "id": "PKI_ZbbwEoCp",
    "outputId": "336b13b4-0ef7-49df-b323-882f15f91fd0"
   },
   "outputs": [
    {
     "name": "stdout",
     "output_type": "stream",
     "text": [
      "Job Status: job has successfully run\n",
      "{'0': 1024}\n"
     ]
    }
   ],
   "source": [
    "from qiskit.tools import job_monitor\n",
    "\n",
    "#select simulator\n",
    "simulator = Aer.get_backend('aer_simulator')\n",
    "\n",
    "#save statevectr\n",
    "#circuit.save_statevector()\n",
    "\n",
    "#assemble\n",
    "qobj = assemble(qc)\n",
    "\n",
    "#run\n",
    "job = simulator.run(qobj)\n",
    "\n",
    "#job monitor\n",
    "job_monitor(job)\n",
    "\n",
    "#get result\n",
    "result = job.result()\n",
    "\n",
    "#get counts\n",
    "counts = result.get_counts()\n",
    "\n",
    "#plot histogram\n",
    "#plot_histogram(counts)\n",
    "\n",
    "print(counts)"
   ]
  },
  {
   "cell_type": "markdown",
   "metadata": {
    "id": "7Jxr86sfE4zi"
   },
   "source": [
    "#Prepare code qubits in superposition\n"
   ]
  },
  {
   "cell_type": "code",
   "execution_count": null,
   "metadata": {
    "colab": {
     "base_uri": "https://localhost:8080/",
     "height": 231
    },
    "executionInfo": {
     "elapsed": 1174,
     "status": "ok",
     "timestamp": 1667824456544,
     "user": {
      "displayName": "Rafid Khan",
      "userId": "05331743219504675786"
     },
     "user_tz": -360
    },
    "id": "v9s7HqYVErKS",
    "outputId": "d25576c0-0bd8-46b7-8f6d-a098f5408d64"
   },
   "outputs": [
    {
     "data": {
      "image/png": "[encoded data removed]",
      "text/plain": [
       "<Figure size 552.884x264.88 with 1 Axes>"
      ]
     },
     "execution_count": 27,
     "metadata": {},
     "output_type": "execute_result"
    }
   ],
   "source": [
    "from qiskit.pulse import cx\n",
    "\n",
    "#define 2 q register\n",
    "qr1 = QuantumRegister(2, name='code_qubits')\n",
    "qr2 = QuantumRegister(1, name='auxilary_qubit')\n",
    "\n",
    "#1 classical register\n",
    "cr1 = ClassicalRegister(1, name='syndrome_bit')\n",
    "\n",
    "#create circuit\n",
    "qc = QuantumCircuit(qr1, qr2, cr1)\n",
    "\n",
    "#prepare in superposition\n",
    "qc.h(qr1[0])\n",
    "qc.cx(qr1[0], qr1[1])\n",
    "\n",
    "#apply cx gate to both code_qubits\n",
    "qc.cx(qr1[0], qr2[0])\n",
    "qc.cx(qr1[1], qr2[0])\n",
    "\n",
    "#measure auxilary qubit\n",
    "qc.measure(qr2[0], cr1[0])\n",
    "\n",
    "#draw circuit\n",
    "qc.draw(initial_state=True, output='mpl')"
   ]
  },
  {
   "cell_type": "markdown",
   "metadata": {
    "id": "ilXebNJ6Fcsj"
   },
   "source": [
    "#Run on simulator"
   ]
  },
  {
   "cell_type": "code",
   "execution_count": null,
   "metadata": {
    "colab": {
     "base_uri": "https://localhost:8080/"
    },
    "executionInfo": {
     "elapsed": 5133,
     "status": "ok",
     "timestamp": 1667824495686,
     "user": {
      "displayName": "Rafid Khan",
      "userId": "05331743219504675786"
     },
     "user_tz": -360
    },
    "id": "Z6L23LTNFeKZ",
    "outputId": "d9ba5c6e-8c09-451d-95dc-98704543b81f"
   },
   "outputs": [
    {
     "name": "stdout",
     "output_type": "stream",
     "text": [
      "Job Status: job has successfully run\n",
      "{'0': 1024}\n"
     ]
    }
   ],
   "source": [
    "from qiskit.tools import job_monitor\n",
    "\n",
    "#select simulator\n",
    "simulator = Aer.get_backend('aer_simulator')\n",
    "\n",
    "#save statevectr\n",
    "#circuit.save_statevector()\n",
    "\n",
    "#assemble\n",
    "qobj = assemble(qc)\n",
    "\n",
    "#run\n",
    "job = simulator.run(qobj)\n",
    "\n",
    "#job monitor\n",
    "job_monitor(job)\n",
    "\n",
    "#get result\n",
    "result = job.result()\n",
    "\n",
    "#get counts\n",
    "counts = result.get_counts()\n",
    "\n",
    "#plot histogram\n",
    "#plot_histogram(counts)\n",
    "\n",
    "print(counts)"
   ]
  },
  {
   "cell_type": "markdown",
   "metadata": {
    "id": "JUrI27bIFn6j"
   },
   "source": [
    "#Prepare code qubit in different state"
   ]
  },
  {
   "cell_type": "code",
   "execution_count": null,
   "metadata": {
    "colab": {
     "base_uri": "https://localhost:8080/",
     "height": 231
    },
    "executionInfo": {
     "elapsed": 595,
     "status": "ok",
     "timestamp": 1667824597450,
     "user": {
      "displayName": "Rafid Khan",
      "userId": "05331743219504675786"
     },
     "user_tz": -360
    },
    "id": "YzCIrB8fFhIZ",
    "outputId": "de5ca2bd-3bdf-4f23-e83b-e480bf6dad85"
   },
   "outputs": [
    {
     "data": {
      "image/png": "[encoded data removed]",
      "text/plain": [
       "<Figure size 673.284x264.88 with 1 Axes>"
      ]
     },
     "execution_count": 29,
     "metadata": {},
     "output_type": "execute_result"
    }
   ],
   "source": [
    "from qiskit.pulse import cx\n",
    "\n",
    "#define 2 q register\n",
    "qr1 = QuantumRegister(2, name='code_qubits')\n",
    "qr2 = QuantumRegister(1, name='auxilary_qubit')\n",
    "\n",
    "#1 classical register\n",
    "cr1 = ClassicalRegister(1, name='syndrome_bit')\n",
    "\n",
    "#create circuit\n",
    "qc = QuantumCircuit(qr1, qr2, cr1)\n",
    "\n",
    "#prepare in superposition\n",
    "qc.h(qr1[0])\n",
    "qc.cx(qr1[0], qr1[1])\n",
    "\n",
    "#barrir\n",
    "qc.barrier()\n",
    "\n",
    "#apply x gate\n",
    "qc.x(qr1[0])\n",
    "\n",
    "#apply cx gate to both code_qubits\n",
    "qc.cx(qr1[0], qr2[0])\n",
    "qc.cx(qr1[1], qr2[0])\n",
    "\n",
    "#measure auxilary qubit\n",
    "qc.measure(qr2[0], cr1[0])\n",
    "\n",
    "#draw circuit\n",
    "qc.draw(initial_state=True, output='mpl')"
   ]
  },
  {
   "cell_type": "markdown",
   "metadata": {
    "id": "MBKEXh85GA_k"
   },
   "source": [
    "#Run on simulator"
   ]
  },
  {
   "cell_type": "code",
   "execution_count": null,
   "metadata": {
    "colab": {
     "base_uri": "https://localhost:8080/"
    },
    "executionInfo": {
     "elapsed": 5228,
     "status": "ok",
     "timestamp": 1667824636579,
     "user": {
      "displayName": "Rafid Khan",
      "userId": "05331743219504675786"
     },
     "user_tz": -360
    },
    "id": "WiNCfv9cGCxJ",
    "outputId": "210e654b-52e5-4d1f-9a90-8bd13dcb2ed7"
   },
   "outputs": [
    {
     "name": "stdout",
     "output_type": "stream",
     "text": [
      "Job Status: job has successfully run\n",
      "{'1': 1024}\n"
     ]
    }
   ],
   "source": [
    "from qiskit.tools import job_monitor\n",
    "\n",
    "#select simulator\n",
    "simulator = Aer.get_backend('aer_simulator')\n",
    "\n",
    "#save statevectr\n",
    "#circuit.save_statevector()\n",
    "\n",
    "#assemble\n",
    "qobj = assemble(qc)\n",
    "\n",
    "#run\n",
    "job = simulator.run(qobj)\n",
    "\n",
    "#job monitor\n",
    "job_monitor(job)\n",
    "\n",
    "#get result\n",
    "result = job.result()\n",
    "\n",
    "#get counts\n",
    "counts = result.get_counts()\n",
    "\n",
    "#plot histogram\n",
    "#plot_histogram(counts)\n",
    "\n",
    "print(counts)"
   ]
  },
  {
   "cell_type": "markdown",
   "metadata": {
    "id": "fgYkFlfMGM0K"
   },
   "source": [
    "#Quantum Repetition Code"
   ]
  },
  {
   "cell_type": "markdown",
   "metadata": {
    "id": "cVliayzjGQVq"
   },
   "source": [
    "#Import Libraries"
   ]
  },
  {
   "cell_type": "code",
   "execution_count": null,
   "metadata": {
    "id": "IQniAkP5GDgC"
   },
   "outputs": [],
   "source": [
    "from qiskit.ignis.verification.topological_codes import RepetitionCode\n",
    "from qiskit.ignis.verification.topological_codes import lookuptable_decoding\n"
   ]
  },
  {
   "cell_type": "markdown",
   "metadata": {
    "id": "xh-YaOqYGz57"
   },
   "source": [
    "#Create repetition code circuit"
   ]
  },
  {
   "cell_type": "code",
   "execution_count": null,
   "metadata": {
    "id": "1QZxuezxGoGQ"
   },
   "outputs": [],
   "source": [
    "#number of physical qubits\n",
    "n = 3\n",
    "\n",
    "#round of syndrome measurement\n",
    "T = 1\n",
    "\n",
    "code = RepetitionCode(n, T)"
   ]
  },
  {
   "cell_type": "markdown",
   "metadata": {
    "id": "5fnjaF1GHQQN"
   },
   "source": [
    "#Repetition code returns 2 circuits"
   ]
  },
  {
   "cell_type": "code",
   "execution_count": null,
   "metadata": {
    "colab": {
     "base_uri": "https://localhost:8080/",
     "height": 367
    },
    "executionInfo": {
     "elapsed": 640,
     "status": "ok",
     "timestamp": 1667824999426,
     "user": {
      "displayName": "Rafid Khan",
      "userId": "05331743219504675786"
     },
     "user_tz": -360
    },
    "id": "zW25QtwAHH_B",
    "outputId": "b16dbb78-f848-4c33-8cc9-c166044b04e3"
   },
   "outputs": [
    {
     "data": {
      "image/png": "[encoded data removed]",
      "text/plain": [
       "<Figure size 791.088x445.48 with 1 Axes>"
      ]
     },
     "execution_count": 34,
     "metadata": {},
     "output_type": "execute_result"
    }
   ],
   "source": [
    "code.circuit['0'].draw(initial_state=True, output='mpl')"
   ]
  },
  {
   "cell_type": "code",
   "execution_count": null,
   "metadata": {
    "colab": {
     "base_uri": "https://localhost:8080/",
     "height": 367
    },
    "executionInfo": {
     "elapsed": 638,
     "status": "ok",
     "timestamp": 1667825051229,
     "user": {
      "displayName": "Rafid Khan",
      "userId": "05331743219504675786"
     },
     "user_tz": -360
    },
    "id": "qF0XBgVzHo36",
    "outputId": "9bea6b39-ee76-4d91-d26e-efcaa8cd9ac1"
   },
   "outputs": [
    {
     "data": {
      "image/png": "[encoded data removed]",
      "text/plain": [
       "<Figure size 851.288x445.48 with 1 Axes>"
      ]
     },
     "execution_count": 35,
     "metadata": {},
     "output_type": "execute_result"
    }
   ],
   "source": [
    "code.circuit['1'].draw(initial_state=True, output='mpl')"
   ]
  },
  {
   "cell_type": "markdown",
   "metadata": {
    "id": "SHMgJEbIHsIM"
   },
   "source": [
    "#Run on simulator without noise"
   ]
  },
  {
   "cell_type": "code",
   "execution_count": null,
   "metadata": {
    "colab": {
     "base_uri": "https://localhost:8080/"
    },
    "executionInfo": {
     "elapsed": 601,
     "status": "ok",
     "timestamp": 1667825434873,
     "user": {
      "displayName": "Rafid Khan",
      "userId": "05331743219504675786"
     },
     "user_tz": -360
    },
    "id": "UMDZBSfuHdZZ",
    "outputId": "26294fcf-8152-4091-8f2b-b486caa15078"
   },
   "outputs": [
    {
     "name": "stdout",
     "output_type": "stream",
     "text": [
      "Logical 0 : {'000 00': 1024} \n",
      "\n",
      "Logical 1 : {'111 00': 1024} \n",
      "\n"
     ]
    }
   ],
   "source": [
    "def get_raw_results(code, noise_model=None):\n",
    "  circuits = code.get_circuit_list()\n",
    "  raw_results = {}\n",
    "\n",
    "  for log in range(2):\n",
    "    qobj = assemble(circuits[log])\n",
    "    job = simulator.run(qobj, noise_model = noise_model)\n",
    "    raw_results[str(log)] = job.result().get_counts(str(log))\n",
    "\n",
    "  return raw_results\n",
    "\n",
    "raw_results = get_raw_results(code)\n",
    "\n",
    "for log in raw_results:\n",
    "  print('Logical', log, ':', raw_results[log], '\\n' )"
   ]
  },
  {
   "cell_type": "markdown",
   "metadata": {
    "id": "yrVM3NTwJL8T"
   },
   "source": [
    "#Repetition code for noise"
   ]
  },
  {
   "cell_type": "code",
   "execution_count": null,
   "metadata": {
    "id": "gaYe-M5VIunJ"
   },
   "outputs": [],
   "source": [
    "#number of physical qubits\n",
    "n = 3\n",
    "\n",
    "#round of syndrome measurement\n",
    "T = 1\n",
    "\n",
    "code = RepetitionCode(n, T)"
   ]
  },
  {
   "cell_type": "markdown",
   "metadata": {
    "id": "ESx_bowdJXH1"
   },
   "source": [
    "#Create noise model for repetition code"
   ]
  },
  {
   "cell_type": "code",
   "execution_count": null,
   "metadata": {
    "id": "cHQeF9W0JZ_h"
   },
   "outputs": [],
   "source": [
    "noise_model = get_noise(0.05, 0.05)"
   ]
  },
  {
   "cell_type": "markdown",
   "metadata": {
    "id": "9XgxU9BkJrgT"
   },
   "source": [
    "#Run on simulator with noise"
   ]
  },
  {
   "cell_type": "code",
   "execution_count": null,
   "metadata": {
    "colab": {
     "base_uri": "https://localhost:8080/"
    },
    "executionInfo": {
     "elapsed": 3,
     "status": "ok",
     "timestamp": 1667826079153,
     "user": {
      "displayName": "Rafid Khan",
      "userId": "05331743219504675786"
     },
     "user_tz": -360
    },
    "id": "iSv1kcWyLTtz",
    "outputId": "00f10ec7-c8a0-44fd-c0fb-dd227a494b74"
   },
   "outputs": [
    {
     "name": "stdout",
     "output_type": "stream",
     "text": [
      "Logical 0 : {'110 00': 3, '010 01': 1, '100 01': 2, '010 10': 2, '001 10': 3, '001 00': 38, '000 00': 787, '101 00': 1, '000 10': 44, '100 00': 58, '000 01': 39, '011 00': 7, '001 01': 2, '100 10': 2, '010 00': 35} \n",
      "\n",
      "Logical 1 : {'101 01': 2, '001 11': 1, '111 11': 5, '010 00': 1, '001 00': 1, '110 01': 1, '011 00': 31, '110 00': 51, '111 01': 48, '101 10': 2, '100 00': 5, '111 00': 781, '101 00': 46, '111 10': 45, '110 10': 2, '011 01': 2} \n",
      "\n"
     ]
    }
   ],
   "source": [
    "def get_raw_results(code, noise_model=noise_model):\n",
    "  circuits = code.get_circuit_list()\n",
    "  raw_results = {}\n",
    "\n",
    "  for log in range(2):\n",
    "    qobj = assemble(circuits[log])\n",
    "    job = simulator.run(qobj, noise_model = noise_model)\n",
    "    raw_results[str(log)] = job.result().get_counts(str(log))\n",
    "\n",
    "  return raw_results\n",
    "\n",
    "raw_results = get_raw_results(code)\n",
    "\n",
    "for log in raw_results:\n",
    "  print('Logical', log, ':', raw_results[log], '\\n' )"
   ]
  },
  {
   "cell_type": "markdown",
   "metadata": {
    "id": "gzo1Md9RJrvc"
   },
   "source": [
    "#LookUp Table Decoding"
   ]
  },
  {
   "cell_type": "code",
   "execution_count": null,
   "metadata": {
    "colab": {
     "base_uri": "https://localhost:8080/"
    },
    "executionInfo": {
     "elapsed": 940,
     "status": "ok",
     "timestamp": 1667826744049,
     "user": {
      "displayName": "Rafid Khan",
      "userId": "05331743219504675786"
     },
     "user_tz": -360
    },
    "id": "2tb0_coLJpYo",
    "outputId": "2645cf4a-8ef7-4cd5-b9b3-da923b15ceea"
   },
   "outputs": [
    {
     "name": "stdout",
     "output_type": "stream",
     "text": [
      "Logical 0 : {'110 01': 1, '111 00': 1, '011 10': 1, '110 10': 2, '101 00': 15, '001 10': 20, '010 00': 384, '101 10': 2, '100 10': 22, '011 01': 1, '000 01': 372, '100 00': 402, '000 10': 404, '010 11': 3, '000 00': 7817, '001 00': 426, '000 11': 17, '001 11': 3, '011 00': 20, '110 00': 17, '001 01': 18, '010 01': 23, '010 10': 12, '100 01': 17} \n",
      "\n",
      "Logical 1 : {'001 10': 3, '011 11': 1, '000 00': 1, '010 01': 2, '110 01': 23, '111 10': 432, '111 00': 7777, '011 10': 20, '101 00': 365, '111 01': 381, '101 10': 22, '111 11': 20, '110 00': 396, '011 00': 437, '001 00': 14, '110 10': 20, '011 01': 27, '010 00': 24, '100 00': 14, '101 01': 21} \n",
      "\n"
     ]
    }
   ],
   "source": [
    "def get_table_results(code, noise_model=noise_model):\n",
    "  circuits = code.get_circuit_list()\n",
    "  table_results = {}\n",
    "\n",
    "  for log in range(2):\n",
    "    qobj = assemble(circuits[log], shots=10000)\n",
    "    job = simulator.run(qobj, noise_model = noise_model)\n",
    "    table_results[str(log)] = job.result().get_counts(str(log))\n",
    "\n",
    "  return table_results\n",
    "\n",
    "table_results = get_table_results(code)\n",
    "\n",
    "for log in table_results:\n",
    "  print('Logical', log, ':', table_results[log], '\\n' )"
   ]
  },
  {
   "cell_type": "markdown",
   "metadata": {
    "id": "KNjPnxpWMmaU"
   },
   "source": [
    "#Call look up table decoding + probability of incorrect decoding"
   ]
  },
  {
   "cell_type": "code",
   "execution_count": null,
   "metadata": {
    "colab": {
     "base_uri": "https://localhost:8080/"
    },
    "executionInfo": {
     "elapsed": 8,
     "status": "ok",
     "timestamp": 1667826746824,
     "user": {
      "displayName": "Rafid Khan",
      "userId": "05331743219504675786"
     },
     "user_tz": -360
    },
    "id": "P_6RALijMB5I",
    "outputId": "1d6f35bf-d215-4ee5-e0b5-2025b36f7d0b"
   },
   "outputs": [
    {
     "name": "stdout",
     "output_type": "stream",
     "text": [
      "Probability of incorrect decoding P =  {'0': 0.0048828125, '1': 0.009765625}\n"
     ]
    }
   ],
   "source": [
    "p = lookuptable_decoding(table_results, raw_results)\n",
    "print('Probability of incorrect decoding P = ', p)"
   ]
  },
  {
   "cell_type": "code",
   "execution_count": null,
   "metadata": {
    "colab": {
     "base_uri": "https://localhost:8080/"
    },
    "executionInfo": {
     "elapsed": 611,
     "status": "ok",
     "timestamp": 1667826754330,
     "user": {
      "displayName": "Rafid Khan",
      "userId": "05331743219504675786"
     },
     "user_tz": -360
    },
    "id": "sIuDA9MLM_Fp",
    "outputId": "e28815b0-9c1f-42d6-8f88-793e7c08ed43"
   },
   "outputs": [
    {
     "data": {
      "text/plain": [
       "False"
      ]
     },
     "execution_count": 69,
     "metadata": {},
     "output_type": "execute_result"
    }
   ],
   "source": [
    "0.0048828125 > 0.009765625"
   ]
  },
  {
   "cell_type": "code",
   "execution_count": null,
   "metadata": {
    "id": "jG4CcUizNWTE"
   },
   "outputs": [],
   "source": []
  }
 ],
 "metadata": {
  "colab": {
   "authorship_tag": "ABX9TyNw+x/AQ7HLV2rRqPRSTzW/",
   "provenance": []
  },
  "kernelspec": {
   "display_name": "Python 3 (ipykernel)",
   "language": "python",
   "name": "python3"
  },
  "language_info": {
   "codemirror_mode": {
    "name": "ipython",
    "version": 3
   },
   "file_extension": ".py",
   "mimetype": "text/x-python",
   "name": "python",
   "nbconvert_exporter": "python",
   "pygments_lexer": "ipython3",
   "version": "3.10.10"
  }
 },
 "nbformat": 4,
 "nbformat_minor": 1
}
