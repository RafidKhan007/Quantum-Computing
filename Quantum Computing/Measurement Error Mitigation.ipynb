{
 "cells": [
  {
   "cell_type": "code",
   "execution_count": null,
   "metadata": {
    "colab": {
     "base_uri": "https://localhost:8080/"
    },
    "executionInfo": {
     "elapsed": 39993,
     "status": "ok",
     "timestamp": 1669695316719,
     "user": {
      "displayName": "Rafid Khan",
      "userId": "05331743219504675786"
     },
     "user_tz": -360
    },
    "id": "M2h5hDfP5sgM",
    "outputId": "1ce40618-c597-4765-84d4-b3f67cb40772"
   },
   "outputs": [
    {
     "name": "stdout",
     "output_type": "stream",
     "text": [
      "Looking in indexes: https://pypi.org/simple, https://us-python.pkg.dev/colab-wheels/public/simple/\n",
      "Collecting qiskit\n",
      "  Downloading qiskit-0.39.3.tar.gz (13 kB)\n",
      "Collecting qiskit-terra==0.22.3\n",
      "  Downloading qiskit_terra-0.22.3-cp37-cp37m-manylinux_2_17_x86_64.manylinux2014_x86_64.whl (4.8 MB)\n",
      "\u001b[K     |████████████████████████████████| 4.8 MB 4.8 MB/s \n",
      "\u001b[?25hCollecting qiskit-aer==0.11.1\n",
      "  Downloading qiskit_aer-0.11.1-cp37-cp37m-manylinux_2_17_x86_64.manylinux2014_x86_64.whl (19.2 MB)\n",
      "\u001b[K     |████████████████████████████████| 19.2 MB 1.4 MB/s \n",
      "\u001b[?25hCollecting qiskit-ibmq-provider==0.19.2\n",
      "  Downloading qiskit_ibmq_provider-0.19.2-py3-none-any.whl (240 kB)\n",
      "\u001b[K     |████████████████████████████████| 240 kB 53.0 MB/s \n",
      "\u001b[?25hRequirement already satisfied: scipy>=1.0 in /usr/local/lib/python3.7/dist-packages (from qiskit-aer==0.11.1->qiskit) (1.7.3)\n",
      "Requirement already satisfied: numpy>=1.16.3 in /usr/local/lib/python3.7/dist-packages (from qiskit-aer==0.11.1->qiskit) (1.21.6)\n",
      "Collecting websockets>=10.0\n",
      "  Downloading websockets-10.4-cp37-cp37m-manylinux_2_5_x86_64.manylinux1_x86_64.manylinux_2_17_x86_64.manylinux2014_x86_64.whl (106 kB)\n",
      "\u001b[K     |████████████████████████████████| 106 kB 24.8 MB/s \n",
      "\u001b[?25hRequirement already satisfied: python-dateutil>=2.8.0 in /usr/local/lib/python3.7/dist-packages (from qiskit-ibmq-provider==0.19.2->qiskit) (2.8.2)\n",
      "Requirement already satisfied: requests>=2.19 in /usr/local/lib/python3.7/dist-packages (from qiskit-ibmq-provider==0.19.2->qiskit) (2.23.0)\n",
      "Collecting requests-ntlm>=1.1.0\n",
      "  Downloading requests_ntlm-1.1.0-py2.py3-none-any.whl (5.7 kB)\n",
      "Requirement already satisfied: urllib3>=1.21.1 in /usr/local/lib/python3.7/dist-packages (from qiskit-ibmq-provider==0.19.2->qiskit) (1.24.3)\n",
      "Collecting websocket-client>=1.0.1\n",
      "  Downloading websocket_client-1.4.2-py3-none-any.whl (55 kB)\n",
      "\u001b[K     |████████████████████████████████| 55 kB 420 kB/s \n",
      "\u001b[?25hCollecting ply>=3.10\n",
      "  Downloading ply-3.11-py2.py3-none-any.whl (49 kB)\n",
      "\u001b[K     |████████████████████████████████| 49 kB 3.2 MB/s \n",
      "\u001b[?25hRequirement already satisfied: psutil>=5 in /usr/local/lib/python3.7/dist-packages (from qiskit-terra==0.22.3->qiskit) (5.4.8)\n",
      "Collecting symengine>=0.9\n",
      "  Downloading symengine-0.9.2-cp37-cp37m-manylinux2010_x86_64.whl (37.5 MB)\n",
      "\u001b[K     |████████████████████████████████| 37.5 MB 1.2 MB/s \n",
      "\u001b[?25hRequirement already satisfied: sympy>=1.3 in /usr/local/lib/python3.7/dist-packages (from qiskit-terra==0.22.3->qiskit) (1.7.1)\n",
      "Collecting tweedledum<2.0,>=1.1\n",
      "  Downloading tweedledum-1.1.1-cp37-cp37m-manylinux_2_12_x86_64.manylinux2010_x86_64.whl (943 kB)\n",
      "\u001b[K     |████████████████████████████████| 943 kB 46.1 MB/s \n",
      "\u001b[?25hRequirement already satisfied: typing-extensions in /usr/local/lib/python3.7/dist-packages (from qiskit-terra==0.22.3->qiskit) (4.1.1)\n",
      "Requirement already satisfied: dill>=0.3 in /usr/local/lib/python3.7/dist-packages (from qiskit-terra==0.22.3->qiskit) (0.3.6)\n",
      "Collecting shared-memory38\n",
      "  Downloading shared_memory38-0.1.2-cp37-cp37m-manylinux_2_5_x86_64.manylinux1_x86_64.whl (25 kB)\n",
      "Collecting stevedore>=3.0.0\n",
      "  Downloading stevedore-3.5.2-py3-none-any.whl (50 kB)\n",
      "\u001b[K     |████████████████████████████████| 50 kB 3.7 MB/s \n",
      "\u001b[?25hCollecting retworkx>=0.11.0\n",
      "  Downloading retworkx-0.12.1-py3-none-any.whl (10 kB)\n",
      "Requirement already satisfied: importlib-metadata<5.0 in /usr/local/lib/python3.7/dist-packages (from qiskit-terra==0.22.3->qiskit) (4.13.0)\n",
      "Requirement already satisfied: zipp>=0.5 in /usr/local/lib/python3.7/dist-packages (from importlib-metadata<5.0->qiskit-terra==0.22.3->qiskit) (3.10.0)\n",
      "Requirement already satisfied: six>=1.5 in /usr/local/lib/python3.7/dist-packages (from python-dateutil>=2.8.0->qiskit-ibmq-provider==0.19.2->qiskit) (1.15.0)\n",
      "Requirement already satisfied: certifi>=2017.4.17 in /usr/local/lib/python3.7/dist-packages (from requests>=2.19->qiskit-ibmq-provider==0.19.2->qiskit) (2022.9.24)\n",
      "Requirement already satisfied: chardet<4,>=3.0.2 in /usr/local/lib/python3.7/dist-packages (from requests>=2.19->qiskit-ibmq-provider==0.19.2->qiskit) (3.0.4)\n",
      "Requirement already satisfied: idna<3,>=2.5 in /usr/local/lib/python3.7/dist-packages (from requests>=2.19->qiskit-ibmq-provider==0.19.2->qiskit) (2.10)\n",
      "Collecting cryptography>=1.3\n",
      "  Downloading cryptography-38.0.4-cp36-abi3-manylinux_2_24_x86_64.whl (4.0 MB)\n",
      "\u001b[K     |████████████████████████████████| 4.0 MB 40.6 MB/s \n",
      "\u001b[?25hCollecting ntlm-auth>=1.0.2\n",
      "  Downloading ntlm_auth-1.5.0-py2.py3-none-any.whl (29 kB)\n",
      "Requirement already satisfied: cffi>=1.12 in /usr/local/lib/python3.7/dist-packages (from cryptography>=1.3->requests-ntlm>=1.1.0->qiskit-ibmq-provider==0.19.2->qiskit) (1.15.1)\n",
      "Requirement already satisfied: pycparser in /usr/local/lib/python3.7/dist-packages (from cffi>=1.12->cryptography>=1.3->requests-ntlm>=1.1.0->qiskit-ibmq-provider==0.19.2->qiskit) (2.21)\n",
      "Collecting rustworkx==0.12.1\n",
      "  Downloading rustworkx-0.12.1-cp37-cp37m-manylinux_2_17_x86_64.manylinux2014_x86_64.whl (1.9 MB)\n",
      "\u001b[K     |████████████████████████████████| 1.9 MB 43.5 MB/s \n",
      "\u001b[?25hCollecting pbr!=2.1.0,>=2.0.0\n",
      "  Downloading pbr-5.11.0-py2.py3-none-any.whl (112 kB)\n",
      "\u001b[K     |████████████████████████████████| 112 kB 40.1 MB/s \n",
      "\u001b[?25hRequirement already satisfied: mpmath>=0.19 in /usr/local/lib/python3.7/dist-packages (from sympy>=1.3->qiskit-terra==0.22.3->qiskit) (1.2.1)\n",
      "Building wheels for collected packages: qiskit\n",
      "  Building wheel for qiskit (setup.py) ... \u001b[?25l\u001b[?25hdone\n",
      "  Created wheel for qiskit: filename=qiskit-0.39.3-py3-none-any.whl size=12262 sha256=cd54eea87bd9fbba70c41a1528568d65e0c5f4a2410465eff8032ea3a56c9ae4\n",
      "  Stored in directory: /root/.cache/pip/wheels/b1/36/b2/6eb4e6a961c404dce1da09f558c3d69f2bb7eea75e253c0890\n",
      "Successfully built qiskit\n",
      "Installing collected packages: rustworkx, pbr, tweedledum, symengine, stevedore, shared-memory38, retworkx, ply, ntlm-auth, cryptography, websockets, websocket-client, requests-ntlm, qiskit-terra, qiskit-ibmq-provider, qiskit-aer, qiskit\n",
      "Successfully installed cryptography-38.0.4 ntlm-auth-1.5.0 pbr-5.11.0 ply-3.11 qiskit-0.39.3 qiskit-aer-0.11.1 qiskit-ibmq-provider-0.19.2 qiskit-terra-0.22.3 requests-ntlm-1.1.0 retworkx-0.12.1 rustworkx-0.12.1 shared-memory38-0.1.2 stevedore-3.5.2 symengine-0.9.2 tweedledum-1.1.1 websocket-client-1.4.2 websockets-10.4\n",
      "Looking in indexes: https://pypi.org/simple, https://us-python.pkg.dev/colab-wheels/public/simple/\n",
      "Collecting qiskit.ignis\n",
      "  Downloading qiskit_ignis-0.7.1-py3-none-any.whl (198 kB)\n",
      "\u001b[K     |████████████████████████████████| 198 kB 4.8 MB/s \n",
      "\u001b[?25hRequirement already satisfied: retworkx>=0.8.0 in /usr/local/lib/python3.7/dist-packages (from qiskit.ignis) (0.12.1)\n",
      "Requirement already satisfied: qiskit-terra>=0.15.1 in /usr/local/lib/python3.7/dist-packages (from qiskit.ignis) (0.22.3)\n",
      "Requirement already satisfied: numpy>=1.13 in /usr/local/lib/python3.7/dist-packages (from qiskit.ignis) (1.21.6)\n",
      "Requirement already satisfied: scipy!=0.19.1,>=0.19 in /usr/local/lib/python3.7/dist-packages (from qiskit.ignis) (1.7.3)\n",
      "Requirement already satisfied: setuptools>=40.1.0 in /usr/local/lib/python3.7/dist-packages (from qiskit.ignis) (57.4.0)\n",
      "Requirement already satisfied: psutil>=5 in /usr/local/lib/python3.7/dist-packages (from qiskit-terra>=0.15.1->qiskit.ignis) (5.4.8)\n",
      "Requirement already satisfied: shared-memory38 in /usr/local/lib/python3.7/dist-packages (from qiskit-terra>=0.15.1->qiskit.ignis) (0.1.2)\n",
      "Requirement already satisfied: dill>=0.3 in /usr/local/lib/python3.7/dist-packages (from qiskit-terra>=0.15.1->qiskit.ignis) (0.3.6)\n",
      "Requirement already satisfied: tweedledum<2.0,>=1.1 in /usr/local/lib/python3.7/dist-packages (from qiskit-terra>=0.15.1->qiskit.ignis) (1.1.1)\n",
      "Requirement already satisfied: symengine>=0.9 in /usr/local/lib/python3.7/dist-packages (from qiskit-terra>=0.15.1->qiskit.ignis) (0.9.2)\n",
      "Requirement already satisfied: importlib-metadata<5.0 in /usr/local/lib/python3.7/dist-packages (from qiskit-terra>=0.15.1->qiskit.ignis) (4.13.0)\n",
      "Requirement already satisfied: sympy>=1.3 in /usr/local/lib/python3.7/dist-packages (from qiskit-terra>=0.15.1->qiskit.ignis) (1.7.1)\n",
      "Requirement already satisfied: python-dateutil>=2.8.0 in /usr/local/lib/python3.7/dist-packages (from qiskit-terra>=0.15.1->qiskit.ignis) (2.8.2)\n",
      "Requirement already satisfied: stevedore>=3.0.0 in /usr/local/lib/python3.7/dist-packages (from qiskit-terra>=0.15.1->qiskit.ignis) (3.5.2)\n",
      "Requirement already satisfied: ply>=3.10 in /usr/local/lib/python3.7/dist-packages (from qiskit-terra>=0.15.1->qiskit.ignis) (3.11)\n",
      "Requirement already satisfied: typing-extensions in /usr/local/lib/python3.7/dist-packages (from qiskit-terra>=0.15.1->qiskit.ignis) (4.1.1)\n",
      "Requirement already satisfied: zipp>=0.5 in /usr/local/lib/python3.7/dist-packages (from importlib-metadata<5.0->qiskit-terra>=0.15.1->qiskit.ignis) (3.10.0)\n",
      "Requirement already satisfied: six>=1.5 in /usr/local/lib/python3.7/dist-packages (from python-dateutil>=2.8.0->qiskit-terra>=0.15.1->qiskit.ignis) (1.15.0)\n",
      "Requirement already satisfied: rustworkx==0.12.1 in /usr/local/lib/python3.7/dist-packages (from retworkx>=0.8.0->qiskit.ignis) (0.12.1)\n",
      "Requirement already satisfied: pbr!=2.1.0,>=2.0.0 in /usr/local/lib/python3.7/dist-packages (from stevedore>=3.0.0->qiskit-terra>=0.15.1->qiskit.ignis) (5.11.0)\n",
      "Requirement already satisfied: mpmath>=0.19 in /usr/local/lib/python3.7/dist-packages (from sympy>=1.3->qiskit-terra>=0.15.1->qiskit.ignis) (1.2.1)\n",
      "Installing collected packages: qiskit.ignis\n",
      "Successfully installed qiskit.ignis-0.7.1\n",
      "Looking in indexes: https://pypi.org/simple, https://us-python.pkg.dev/colab-wheels/public/simple/\n",
      "Collecting pylatexenc\n",
      "  Downloading pylatexenc-2.10.tar.gz (162 kB)\n",
      "\u001b[K     |████████████████████████████████| 162 kB 5.2 MB/s \n",
      "\u001b[?25hBuilding wheels for collected packages: pylatexenc\n",
      "  Building wheel for pylatexenc (setup.py) ... \u001b[?25l\u001b[?25hdone\n",
      "  Created wheel for pylatexenc: filename=pylatexenc-2.10-py3-none-any.whl size=136833 sha256=cce1cafdefd5cba29fc4107fac75be798a1a02cc88baf2434c81ad93eae1f6f4\n",
      "  Stored in directory: /root/.cache/pip/wheels/f1/8a/f5/33ee79d4473eb201b519fa40f989b842e373237395a3421f52\n",
      "Successfully built pylatexenc\n",
      "Installing collected packages: pylatexenc\n",
      "Successfully installed pylatexenc-2.10\n"
     ]
    }
   ],
   "source": [
    "!pip install qiskit\n",
    "!pip install qiskit.ignis --no-cache-dir\n",
    "!pip install pylatexenc"
   ]
  },
  {
   "cell_type": "code",
   "execution_count": null,
   "metadata": {
    "colab": {
     "base_uri": "https://localhost:8080/"
    },
    "executionInfo": {
     "elapsed": 4463,
     "status": "ok",
     "timestamp": 1669695321177,
     "user": {
      "displayName": "Rafid Khan",
      "userId": "05331743219504675786"
     },
     "user_tz": -360
    },
    "id": "IwTu6oIs6uHQ",
    "outputId": "07534334-2076-4359-d065-d817d066e2cc"
   },
   "outputs": [
    {
     "name": "stdout",
     "output_type": "stream",
     "text": [
      "Looking in indexes: https://pypi.org/simple, https://us-python.pkg.dev/colab-wheels/public/simple/\n",
      "Requirement already satisfied: qiskit.ignis in /usr/local/lib/python3.7/dist-packages (0.7.1)\n",
      "Requirement already satisfied: numpy>=1.13 in /usr/local/lib/python3.7/dist-packages (from qiskit.ignis) (1.21.6)\n",
      "Requirement already satisfied: setuptools>=40.1.0 in /usr/local/lib/python3.7/dist-packages (from qiskit.ignis) (57.4.0)\n",
      "Requirement already satisfied: scipy!=0.19.1,>=0.19 in /usr/local/lib/python3.7/dist-packages (from qiskit.ignis) (1.7.3)\n",
      "Requirement already satisfied: retworkx>=0.8.0 in /usr/local/lib/python3.7/dist-packages (from qiskit.ignis) (0.12.1)\n",
      "Requirement already satisfied: qiskit-terra>=0.15.1 in /usr/local/lib/python3.7/dist-packages (from qiskit.ignis) (0.22.3)\n",
      "Requirement already satisfied: psutil>=5 in /usr/local/lib/python3.7/dist-packages (from qiskit-terra>=0.15.1->qiskit.ignis) (5.4.8)\n",
      "Requirement already satisfied: typing-extensions in /usr/local/lib/python3.7/dist-packages (from qiskit-terra>=0.15.1->qiskit.ignis) (4.1.1)\n",
      "Requirement already satisfied: ply>=3.10 in /usr/local/lib/python3.7/dist-packages (from qiskit-terra>=0.15.1->qiskit.ignis) (3.11)\n",
      "Requirement already satisfied: sympy>=1.3 in /usr/local/lib/python3.7/dist-packages (from qiskit-terra>=0.15.1->qiskit.ignis) (1.7.1)\n",
      "Requirement already satisfied: stevedore>=3.0.0 in /usr/local/lib/python3.7/dist-packages (from qiskit-terra>=0.15.1->qiskit.ignis) (3.5.2)\n",
      "Requirement already satisfied: symengine>=0.9 in /usr/local/lib/python3.7/dist-packages (from qiskit-terra>=0.15.1->qiskit.ignis) (0.9.2)\n",
      "Requirement already satisfied: dill>=0.3 in /usr/local/lib/python3.7/dist-packages (from qiskit-terra>=0.15.1->qiskit.ignis) (0.3.6)\n",
      "Requirement already satisfied: python-dateutil>=2.8.0 in /usr/local/lib/python3.7/dist-packages (from qiskit-terra>=0.15.1->qiskit.ignis) (2.8.2)\n",
      "Requirement already satisfied: shared-memory38 in /usr/local/lib/python3.7/dist-packages (from qiskit-terra>=0.15.1->qiskit.ignis) (0.1.2)\n",
      "Requirement already satisfied: tweedledum<2.0,>=1.1 in /usr/local/lib/python3.7/dist-packages (from qiskit-terra>=0.15.1->qiskit.ignis) (1.1.1)\n",
      "Requirement already satisfied: importlib-metadata<5.0 in /usr/local/lib/python3.7/dist-packages (from qiskit-terra>=0.15.1->qiskit.ignis) (4.13.0)\n",
      "Requirement already satisfied: zipp>=0.5 in /usr/local/lib/python3.7/dist-packages (from importlib-metadata<5.0->qiskit-terra>=0.15.1->qiskit.ignis) (3.10.0)\n",
      "Requirement already satisfied: six>=1.5 in /usr/local/lib/python3.7/dist-packages (from python-dateutil>=2.8.0->qiskit-terra>=0.15.1->qiskit.ignis) (1.15.0)\n",
      "Requirement already satisfied: rustworkx==0.12.1 in /usr/local/lib/python3.7/dist-packages (from retworkx>=0.8.0->qiskit.ignis) (0.12.1)\n",
      "Requirement already satisfied: pbr!=2.1.0,>=2.0.0 in /usr/local/lib/python3.7/dist-packages (from stevedore>=3.0.0->qiskit-terra>=0.15.1->qiskit.ignis) (5.11.0)\n",
      "Requirement already satisfied: mpmath>=0.19 in /usr/local/lib/python3.7/dist-packages (from sympy>=1.3->qiskit-terra>=0.15.1->qiskit.ignis) (1.2.1)\n"
     ]
    }
   ],
   "source": [
    "!pip install qiskit.ignis"
   ]
  },
  {
   "cell_type": "code",
   "execution_count": null,
   "metadata": {
    "id": "8jXK98et6P_a"
   },
   "outputs": [],
   "source": [
    "from qiskit import *\n",
    "from qiskit.providers.aer.noise import NoiseModel\n",
    "from qiskit.providers.aer.noise.errors import pauli_error"
   ]
  },
  {
   "cell_type": "markdown",
   "metadata": {
    "id": "ESIGPRDj7J0w"
   },
   "source": [
    "#Noise model function"
   ]
  },
  {
   "cell_type": "code",
   "execution_count": null,
   "metadata": {
    "id": "LR-jAVSL7MKf"
   },
   "outputs": [],
   "source": [
    "def get_noise(p):\n",
    "  error_measure = pauli_error([('X', p), ('I', 1-p)])\n",
    "\n",
    "  noise_model = NoiseModel()\n",
    "\n",
    "  #apply measurement error to noise model\n",
    "  noise_model.add_all_qubit_quantum_error(error_measure, 'measure')\n",
    "\n",
    "  return noise_model"
   ]
  },
  {
   "cell_type": "markdown",
   "metadata": {
    "id": "O9E3Icph7zV5"
   },
   "source": [
    "#Create Noise Model"
   ]
  },
  {
   "cell_type": "code",
   "execution_count": null,
   "metadata": {
    "id": "WEmnIY_z72qu"
   },
   "outputs": [],
   "source": [
    "#1% chance of happening measurement error\n",
    "noise_model = get_noise(0.01)"
   ]
  },
  {
   "cell_type": "markdown",
   "metadata": {
    "id": "hQmdemKp7_7A"
   },
   "source": [
    "#Effect of noise model\n",
    "\n",
    "#00 01 10 11"
   ]
  },
  {
   "cell_type": "code",
   "execution_count": null,
   "metadata": {
    "colab": {
     "base_uri": "https://localhost:8080/"
    },
    "executionInfo": {
     "elapsed": 6,
     "status": "ok",
     "timestamp": 1669695322404,
     "user": {
      "displayName": "Rafid Khan",
      "userId": "05331743219504675786"
     },
     "user_tz": -360
    },
    "id": "7uAW9RGa7-vX",
    "outputId": "adbb06aa-0eb6-4d76-b3cd-999ac0af8258"
   },
   "outputs": [
    {
     "name": "stdout",
     "output_type": "stream",
     "text": [
      "00 becomes {'00': 10000}\n",
      "01 becomes {'01': 10000}\n",
      "10 becomes {'10': 10000}\n",
      "11 becomes {'11': 10000}\n"
     ]
    }
   ],
   "source": [
    "all_state = ['00', '01', '10', '11']\n",
    "\n",
    "for state in all_state:\n",
    "  qc =QuantumCircuit(2,2)\n",
    "\n",
    "  if state[0] == '1':\n",
    "    qc.x(1)\n",
    "  if state[1] == '1':\n",
    "    qc.x(0)\n",
    "\n",
    "  qc.measure([0,1], [0,1])\n",
    "\n",
    "  simulator = Aer.get_backend('aer_simulator')\n",
    "  t_tc = transpile(qc, simulator)\n",
    "  qobj = assemble(t_tc, shots=10000)\n",
    "  counts = simulator.run(qobj, noise_model=None).result().get_counts()\n",
    "  print(state + ' becomes', counts)"
   ]
  },
  {
   "cell_type": "markdown",
   "metadata": {
    "id": "r4tqcQYZ-CKp"
   },
   "source": [
    "#Run with noise"
   ]
  },
  {
   "cell_type": "code",
   "execution_count": null,
   "metadata": {
    "colab": {
     "base_uri": "https://localhost:8080/"
    },
    "executionInfo": {
     "elapsed": 1139,
     "status": "ok",
     "timestamp": 1669695323540,
     "user": {
      "displayName": "Rafid Khan",
      "userId": "05331743219504675786"
     },
     "user_tz": -360
    },
    "id": "ES9Gsxyd9qUw",
    "outputId": "2725ecc6-bb02-464d-c222-0ac8ecf7f377"
   },
   "outputs": [
    {
     "name": "stdout",
     "output_type": "stream",
     "text": [
      "00 becomes {'10': 102, '00': 9809, '01': 89}\n",
      "01 becomes {'10': 1, '00': 101, '01': 9791, '11': 107}\n",
      "10 becomes {'01': 2, '00': 110, '10': 9782, '11': 106}\n",
      "11 becomes {'01': 98, '11': 9816, '00': 1, '10': 85}\n"
     ]
    }
   ],
   "source": [
    "all_state = ['00', '01', '10', '11']\n",
    "\n",
    "for state in all_state:\n",
    "  qc =QuantumCircuit(2,2)\n",
    "\n",
    "  if state[0] == '1':\n",
    "    qc.x(1)\n",
    "  if state[1] == '1':\n",
    "    qc.x(0)\n",
    "\n",
    "  qc.measure([0,1], [0,1])\n",
    "\n",
    "  simulator = Aer.get_backend('aer_simulator')\n",
    "  t_tc = transpile(qc, simulator)\n",
    "  qobj = assemble(t_tc, shots=10000)\n",
    "  counts = simulator.run(qobj, noise_model=noise_model).result().get_counts()\n",
    "  print(state+ ' becomes', counts)"
   ]
  },
  {
   "cell_type": "markdown",
   "metadata": {
    "id": "ALiEMnm4-vwI"
   },
   "source": [
    "#Create general state"
   ]
  },
  {
   "cell_type": "code",
   "execution_count": null,
   "metadata": {
    "colab": {
     "base_uri": "https://localhost:8080/"
    },
    "executionInfo": {
     "elapsed": 5,
     "status": "ok",
     "timestamp": 1669695323541,
     "user": {
      "displayName": "Rafid Khan",
      "userId": "05331743219504675786"
     },
     "user_tz": -360
    },
    "id": "Xjt5U21U-RDO",
    "outputId": "70562c79-0296-4eed-9ca7-e7327b2adf1d"
   },
   "outputs": [
    {
     "name": "stdout",
     "output_type": "stream",
     "text": [
      "{'01': 93, '11': 4790, '10': 109, '00': 5008}\n"
     ]
    }
   ],
   "source": [
    "#create circuit\n",
    "qc = QuantumCircuit(2,2)\n",
    "\n",
    "#apply gates\n",
    "qc.h(0)\n",
    "qc.cx(0, 1)\n",
    "\n",
    "#apply measurement\n",
    "qc.measure([0,1], [0,1])\n",
    "\n",
    "#qc.draw(initial_state=True, output='mpl)\n",
    "\n",
    "t_tc = transpile(qc, simulator)\n",
    "qobj = assemble(t_tc, shots=10000)\n",
    "counts = simulator.run(qobj, noise_model=noise_model).result().get_counts()\n",
    "print(counts)"
   ]
  },
  {
   "cell_type": "markdown",
   "metadata": {
    "id": "JqZCg73E_8n6"
   },
   "source": [
    "#Error mitigation in qiskit"
   ]
  },
  {
   "cell_type": "code",
   "execution_count": null,
   "metadata": {
    "colab": {
     "base_uri": "https://localhost:8080/"
    },
    "executionInfo": {
     "elapsed": 1918,
     "status": "ok",
     "timestamp": 1669695325456,
     "user": {
      "displayName": "Rafid Khan",
      "userId": "05331743219504675786"
     },
     "user_tz": -360
    },
    "id": "mFMJ7WN-_ogA",
    "outputId": "d05bf277-816a-43ac-9cd3-516c9dd7ce75"
   },
   "outputs": [
    {
     "name": "stderr",
     "output_type": "stream",
     "text": [
      "/usr/local/lib/python3.7/dist-packages/ipykernel_launcher.py:5: DeprecationWarning: The qiskit.ignis package is deprecated and has been supersceded by the qiskit-experiments project. Refer to the migration guide: https://github.com/Qiskit/qiskit-ignis#migration-guide on how to migrate to the new project.\n",
      "  \"\"\"\n"
     ]
    }
   ],
   "source": [
    "#import libraries\n",
    "\n",
    "from qiskit import *\n",
    "from qiskit.visualization import array_to_latex\n",
    "from qiskit.ignis.mitigation.measurement import complete_meas_cal, CompleteMeasFitter\n",
    "from qiskit.visualization import plot_histogram"
   ]
  },
  {
   "cell_type": "markdown",
   "metadata": {
    "id": "nZG0ddhmArth"
   },
   "source": [
    "#Creating calibration circuit"
   ]
  },
  {
   "cell_type": "code",
   "execution_count": null,
   "metadata": {
    "id": "Ix8nRfhVAi5m"
   },
   "outputs": [],
   "source": [
    "qr = QuantumRegister(2)\n",
    "meas_calibs, state_labels = complete_meas_cal(qr=qr, circlabel='mcal')"
   ]
  },
  {
   "cell_type": "markdown",
   "metadata": {
    "id": "7fE_LDrKA8wI"
   },
   "source": [
    "#Visualize calibration circuits"
   ]
  },
  {
   "cell_type": "code",
   "execution_count": null,
   "metadata": {
    "colab": {
     "base_uri": "https://localhost:8080/"
    },
    "executionInfo": {
     "elapsed": 6,
     "status": "ok",
     "timestamp": 1669695325456,
     "user": {
      "displayName": "Rafid Khan",
      "userId": "05331743219504675786"
     },
     "user_tz": -360
    },
    "id": "0eX09KgyA6u3",
    "outputId": "ae5527e6-8561-4dc6-81e9-0b00a1913452"
   },
   "outputs": [
    {
     "name": "stdout",
     "output_type": "stream",
     "text": [
      "Circuit mcalcal_00\n",
      "        ░ ┌─┐   \n",
      "q17_0: ─░─┤M├───\n",
      "        ░ └╥┘┌─┐\n",
      "q17_1: ─░──╫─┤M├\n",
      "        ░  ║ └╥┘\n",
      " c0: 2/════╩══╩═\n",
      "           0  1 \n",
      "\n",
      "Circuit mcalcal_01\n",
      "       ┌───┐ ░ ┌─┐   \n",
      "q17_0: ┤ X ├─░─┤M├───\n",
      "       └───┘ ░ └╥┘┌─┐\n",
      "q17_1: ──────░──╫─┤M├\n",
      "             ░  ║ └╥┘\n",
      " c0: 2/═════════╩══╩═\n",
      "                0  1 \n",
      "\n",
      "Circuit mcalcal_10\n",
      "             ░ ┌─┐   \n",
      "q17_0: ──────░─┤M├───\n",
      "       ┌───┐ ░ └╥┘┌─┐\n",
      "q17_1: ┤ X ├─░──╫─┤M├\n",
      "       └───┘ ░  ║ └╥┘\n",
      " c0: 2/═════════╩══╩═\n",
      "                0  1 \n",
      "\n",
      "Circuit mcalcal_11\n",
      "       ┌───┐ ░ ┌─┐   \n",
      "q17_0: ┤ X ├─░─┤M├───\n",
      "       ├───┤ ░ └╥┘┌─┐\n",
      "q17_1: ┤ X ├─░──╫─┤M├\n",
      "       └───┘ ░  ║ └╥┘\n",
      " c0: 2/═════════╩══╩═\n",
      "                0  1 \n",
      "\n"
     ]
    }
   ],
   "source": [
    "for circuit in meas_calibs:\n",
    "  print('Circuit', circuit.name)\n",
    "  print(circuit)\n",
    "  print()"
   ]
  },
  {
   "cell_type": "markdown",
   "metadata": {
    "id": "jkmAADxeB6YA"
   },
   "source": [
    "#Run on simulator without noise"
   ]
  },
  {
   "cell_type": "code",
   "execution_count": null,
   "metadata": {
    "id": "CDkpSpPsBLwm"
   },
   "outputs": [],
   "source": [
    "  simulator = Aer.get_backend('aer_simulator')\n",
    "\n",
    "  t_tc = transpile(meas_calibs, simulator)\n",
    "  qobj = assemble(t_tc, shots=10000)\n",
    "  cal_results = simulator.run(qobj, noise_model=None).result()"
   ]
  },
  {
   "cell_type": "markdown",
   "metadata": {
    "id": "LBsOPfw8CUUo"
   },
   "source": [
    "#Calibration matrix without noise"
   ]
  },
  {
   "cell_type": "code",
   "execution_count": null,
   "metadata": {
    "colab": {
     "base_uri": "https://localhost:8080/",
     "height": 99
    },
    "executionInfo": {
     "elapsed": 8,
     "status": "ok",
     "timestamp": 1669695326024,
     "user": {
      "displayName": "Rafid Khan",
      "userId": "05331743219504675786"
     },
     "user_tz": -360
    },
    "id": "NAImnIkZCS32",
    "outputId": "a6f91c92-2594-4d15-a1f1-c0b4ea7ffea6"
   },
   "outputs": [
    {
     "data": {
      "text/latex": [
       "$$\n",
       "\n",
       "\\begin{bmatrix}\n",
       "1 & 0 & 0 & 0  \\\\\n",
       " 0 & 1 & 0 & 0  \\\\\n",
       " 0 & 0 & 1 & 0  \\\\\n",
       " 0 & 0 & 0 & 1  \\\\\n",
       " \\end{bmatrix}\n",
       "$$"
      ],
      "text/plain": [
       "<IPython.core.display.Latex object>"
      ]
     },
     "execution_count": 13,
     "metadata": {},
     "output_type": "execute_result"
    }
   ],
   "source": [
    "meas_fitter = CompleteMeasFitter(cal_results, state_labels, circlabel='mcal')\n",
    "array_to_latex(meas_fitter.cal_matrix)"
   ]
  },
  {
   "cell_type": "markdown",
   "metadata": {
    "id": "GJpb7nn6ZzyX"
   },
   "source": [
    "#Create noise model"
   ]
  },
  {
   "cell_type": "code",
   "execution_count": null,
   "metadata": {
    "id": "jUhMLvp3Z1hZ"
   },
   "outputs": [],
   "source": [
    "#10% chance of happening measurement error\n",
    "noise_model = get_noise(0.1)"
   ]
  },
  {
   "cell_type": "markdown",
   "metadata": {
    "id": "-GepNIWzZD66"
   },
   "source": [
    "#Run calibration circuit with noise"
   ]
  },
  {
   "cell_type": "code",
   "execution_count": null,
   "metadata": {
    "id": "Q9GxMPNBaeFJ"
   },
   "outputs": [],
   "source": [
    "simulator = Aer.get_backend('aer_simulator')\n",
    "\n",
    "t_tc = transpile(meas_calibs, simulator)\n",
    "qobj = assemble(t_tc, shots=10000)\n",
    "cal_results = simulator.run(qobj, noise_model=noise_model).result()"
   ]
  },
  {
   "cell_type": "markdown",
   "metadata": {
    "id": "YimShZw-boUJ"
   },
   "source": [
    "#Noise calibration matrix"
   ]
  },
  {
   "cell_type": "code",
   "execution_count": null,
   "metadata": {
    "colab": {
     "base_uri": "https://localhost:8080/",
     "height": 99
    },
    "executionInfo": {
     "elapsed": 5,
     "status": "ok",
     "timestamp": 1669695326563,
     "user": {
      "displayName": "Rafid Khan",
      "userId": "05331743219504675786"
     },
     "user_tz": -360
    },
    "id": "gboN1Y9jbfo4",
    "outputId": "05d99ee0-efe3-481e-c77d-6c36ace94826"
   },
   "outputs": [
    {
     "data": {
      "text/latex": [
       "$$\n",
       "\n",
       "\\begin{bmatrix}\n",
       "0.8106 & 0.0902 & 0.0866 & 0.0105  \\\\\n",
       " 0.0919 & 0.8118 & 0.011 & 0.0863  \\\\\n",
       " 0.0866 & 0.0107 & 0.8104 & 0.0911  \\\\\n",
       " 0.0109 & 0.0873 & 0.092 & 0.8121  \\\\\n",
       " \\end{bmatrix}\n",
       "$$"
      ],
      "text/plain": [
       "<IPython.core.display.Latex object>"
      ]
     },
     "execution_count": 16,
     "metadata": {},
     "output_type": "execute_result"
    }
   ],
   "source": [
    "meas_fitter = CompleteMeasFitter(cal_results, state_labels, circlabel='mcal')\n",
    "array_to_latex(meas_fitter.cal_matrix)"
   ]
  },
  {
   "cell_type": "markdown",
   "metadata": {
    "id": "T9pAjQE8cETh"
   },
   "source": [
    "#Arbitrary general circuit to get noisy results from noise model"
   ]
  },
  {
   "cell_type": "code",
   "execution_count": null,
   "metadata": {
    "colab": {
     "base_uri": "https://localhost:8080/",
     "height": 331
    },
    "executionInfo": {
     "elapsed": 1819,
     "status": "ok",
     "timestamp": 1669695328378,
     "user": {
      "displayName": "Rafid Khan",
      "userId": "05331743219504675786"
     },
     "user_tz": -360
    },
    "id": "TERyZSj2cObC",
    "outputId": "08b06f14-0245-4997-9d4a-53401016bc79"
   },
   "outputs": [
    {
     "data": {
      "image/png": "[encoded data removed]",
      "text/plain": [
       "<Figure size 504x360 with 1 Axes>"
      ]
     },
     "execution_count": 17,
     "metadata": {},
     "output_type": "execute_result"
    }
   ],
   "source": [
    "general_circuit = QuantumCircuit(2,2)\n",
    "general_circuit.h(0)\n",
    "general_circuit.cx(0, 1)\n",
    "general_circuit.measure([0,1], [0,1])\n",
    "\n",
    "simulator = Aer.get_backend('aer_simulator')\n",
    "\n",
    "t_tc = transpile(meas_calibs, simulator)\n",
    "qobj = assemble(t_tc, shots=10000)\n",
    "noisy_results = simulator.run(qobj, noise_model=noise_model).result()\n",
    "noisy_counts = noisy_results.get_counts()\n",
    "plot_histogram(noisy_counts)\n",
    "\n"
   ]
  },
  {
   "cell_type": "markdown",
   "metadata": {
    "id": "nLP4IzHkcEXq"
   },
   "source": [
    "#MItigate noise for the circuit with the help of noisy calibration circuit"
   ]
  },
  {
   "cell_type": "code",
   "execution_count": null,
   "metadata": {
    "id": "3xoVHYFPb8Ow"
   },
   "outputs": [],
   "source": [
    "#Get the fitter object\n",
    "meas_fitter = meas_fitter.filter\n",
    "\n",
    "#Results with mitigation\n",
    "mitigated_results = meas_fitter.apply(noisy_results)\n",
    "mitigated_counts = mitigated_results.get_counts()"
   ]
  },
  {
   "cell_type": "markdown",
   "metadata": {
    "id": "LKD-0j9QeoTD"
   },
   "source": [
    "#Plot noisy and mitigated results for the circuit"
   ]
  },
  {
   "cell_type": "code",
   "execution_count": null,
   "metadata": {
    "colab": {
     "base_uri": "https://localhost:8080/",
     "height": 331
    },
    "executionInfo": {
     "elapsed": 10,
     "status": "ok",
     "timestamp": 1669695328381,
     "user": {
      "displayName": "Rafid Khan",
      "userId": "05331743219504675786"
     },
     "user_tz": -360
    },
    "id": "nlXk5FUIemnu",
    "outputId": "3a952b3a-54c1-4bbc-8a34-98e2c71d63c3"
   },
   "outputs": [
    {
     "data": {
      "image/png": "[encoded data removed]",
      "text/plain": [
       "<Figure size 504x360 with 1 Axes>"
      ]
     },
     "execution_count": 19,
     "metadata": {},
     "output_type": "execute_result"
    }
   ],
   "source": [
    "plot_histogram(noisy_counts)"
   ]
  },
  {
   "cell_type": "code",
   "execution_count": null,
   "metadata": {
    "colab": {
     "base_uri": "https://localhost:8080/",
     "height": 331
    },
    "executionInfo": {
     "elapsed": 924,
     "status": "ok",
     "timestamp": 1669695329296,
     "user": {
      "displayName": "Rafid Khan",
      "userId": "05331743219504675786"
     },
     "user_tz": -360
    },
    "id": "V0tyBNEte9S2",
    "outputId": "dafd981a-8d19-4a44-d8fc-88d58550a074"
   },
   "outputs": [
    {
     "data": {
      "image/png": "[encoded data removed]",
      "text/plain": [
       "<Figure size 504x360 with 1 Axes>"
      ]
     },
     "execution_count": 20,
     "metadata": {},
     "output_type": "execute_result"
    }
   ],
   "source": [
    "plot_histogram(mitigated_counts)"
   ]
  },
  {
   "cell_type": "markdown",
   "metadata": {
    "id": "ILe883_ijLq_"
   },
   "source": [
    "#Create another 2 qubit arbitary general circuit"
   ]
  },
  {
   "cell_type": "code",
   "execution_count": null,
   "metadata": {
    "colab": {
     "base_uri": "https://localhost:8080/",
     "height": 185
    },
    "executionInfo": {
     "elapsed": 7,
     "status": "ok",
     "timestamp": 1669695329296,
     "user": {
      "displayName": "Rafid Khan",
      "userId": "05331743219504675786"
     },
     "user_tz": -360
    },
    "id": "9eFh1AoijExP",
    "outputId": "d5f72e71-11c8-4749-e227-221e1c51fe1a"
   },
   "outputs": [
    {
     "data": {
      "image/png": "[encoded data removed]",
      "text/plain": [
       "<Figure size 557.891x204.68 with 1 Axes>"
      ]
     },
     "execution_count": 21,
     "metadata": {},
     "output_type": "execute_result"
    }
   ],
   "source": [
    "general_circuit2 = QuantumCircuit(2)\n",
    "general_circuit2.h(0)\n",
    "general_circuit2.cx(0, 1)\n",
    "general_circuit2.x(0)\n",
    "general_circuit2.cx(1,0)\n",
    "\n",
    "general_circuit2.measure_all()\n",
    "\n",
    "general_circuit2.draw(initial_state=True, output='mpl')\n",
    "\n"
   ]
  },
  {
   "cell_type": "markdown",
   "metadata": {
    "id": "W4clbhErlCOx"
   },
   "source": [
    "#Run on simulator"
   ]
  },
  {
   "cell_type": "code",
   "execution_count": null,
   "metadata": {
    "colab": {
     "base_uri": "https://localhost:8080/",
     "height": 331
    },
    "executionInfo": {
     "elapsed": 938,
     "status": "ok",
     "timestamp": 1669695330228,
     "user": {
      "displayName": "Rafid Khan",
      "userId": "05331743219504675786"
     },
     "user_tz": -360
    },
    "id": "Ph72lxkfk1J3",
    "outputId": "c42d6bd2-094a-47a6-92a6-f08e46c7f2b7"
   },
   "outputs": [
    {
     "data": {
      "image/png": "[encoded data removed]",
      "text/plain": [
       "<Figure size 504x360 with 1 Axes>"
      ]
     },
     "execution_count": 22,
     "metadata": {},
     "output_type": "execute_result"
    }
   ],
   "source": [
    "simulator = Aer.get_backend('aer_simulator')\n",
    "\n",
    "t_tc = transpile(meas_calibs, simulator)\n",
    "qobj = assemble(t_tc, shots=10000)\n",
    "noisy_results = simulator.run(qobj, noise_model=noise_model).result()\n",
    "noisy_counts = noisy_results.get_counts()\n",
    "plot_histogram(noisy_counts)"
   ]
  },
  {
   "cell_type": "code",
   "execution_count": null,
   "metadata": {
    "id": "M6k_K7-WlHh2"
   },
   "outputs": [],
   "source": []
  }
 ],
 "metadata": {
  "colab": {
   "authorship_tag": "ABX9TyPuA29/t9+opwMZzbNQ0wTv",
   "provenance": []
  },
  "kernelspec": {
   "display_name": "Python 3 (ipykernel)",
   "language": "python",
   "name": "python3"
  },
  "language_info": {
   "codemirror_mode": {
    "name": "ipython",
    "version": 3
   },
   "file_extension": ".py",
   "mimetype": "text/x-python",
   "name": "python",
   "nbconvert_exporter": "python",
   "pygments_lexer": "ipython3",
   "version": "3.10.10"
  }
 },
 "nbformat": 4,
 "nbformat_minor": 1
}
